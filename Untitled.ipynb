{
 "cells": [
  {
   "cell_type": "code",
   "execution_count": 93,
   "metadata": {},
   "outputs": [],
   "source": [
    "#! /usr/bin/env python\n",
    "# -*- coding: utf-8 -*-\n",
    "\n",
    "import requests\n",
    "import json\n",
    "import pymongo\n",
    "import pandas\n",
    "import re\n",
    "import nltk\n",
    "import numpy\n",
    "import itertools\n",
    "import datetime \n",
    "import ggplot\n",
    "import tabpy_client\n",
    "\n",
    "\n",
    "from ggplot import *\n",
    "from matplotlib import pyplot as plt\n",
    "from wordcloud import WordCloud\n",
    "from pymongo import MongoClient\n",
    "from requests_oauthlib import OAuth2\n",
    "from tqdm import tqdm\n",
    "\n",
    "from watson_developer_cloud import NaturalLanguageUnderstandingV1\n",
    "from watson_developer_cloud.natural_language_understanding_v1 \\\n",
    "  import Features, EmotionOptions, SentimentOptions\n",
    "\n",
    "#Base de datos \n",
    "client = MongoClient('localhost:27017')\n",
    "db = client.db_analyzer\n",
    "db_analyzer = db.analyzer\n",
    "collection_posts = db_analyzer.posts\n",
    "collection_comments = db_analyzer.comments\n"
   ]
  },
  {
   "cell_type": "code",
   "execution_count": 94,
   "metadata": {},
   "outputs": [
    {
     "data": {
      "text/plain": [
       "<pymongo.results.DeleteResult at 0x1257f4b8>"
      ]
     },
     "execution_count": 94,
     "metadata": {},
     "output_type": "execute_result"
    }
   ],
   "source": [
    "#Limpiamos la base de datos para que no se repliquen los datos o interfieran con los de otras páginas\n",
    "collection_posts.delete_many({})\n",
    "collection_comments.delete_many({})"
   ]
  },
  {
   "cell_type": "code",
   "execution_count": 95,
   "metadata": {},
   "outputs": [
    {
     "name": "stdout",
     "output_type": "stream",
     "text": [
      "https://graph.facebook.com/v2.12/215473732566847/feed?fields=id,message,reactions,shares,from,caption,created_time,likes.summary(true)\n",
      "{'data': [{'id': '215473732566847_215942402519980', 'message': 'Recorre la cueva del viento, el tubo volcánico más grande de Europa, y admira el Drago Milenario en Icod de los Vinos\\n\\n#Drago #Tenerife #TuboVolcánico #Icod #Paraiso', 'shares': {'count': 1}, 'from': {'name': 'Turismo Tenerife', 'id': '215473732566847'}, 'created_time': '2018-06-12T11:25:54+0000', 'likes': {'data': [], 'paging': {'cursors': {'before': 'MTAyMTcwMjg5MTU5MDE1MzEZD', 'after': 'MTIyNTQ5OTY5NDI1MjI0MwZDZD'}}, 'summary': {'total_count': 12, 'can_like': True, 'has_liked': False}}}, {'id': '215473732566847_215939769186910', 'message': 'Piérdete en los montes de Anaga  y disfruta de la Laurisilva\\n\\n#Anaga #Tenerife #SC #Laurisilva #Bosque', 'from': {'name': 'Turismo Tenerife', 'id': '215473732566847'}, 'created_time': '2018-06-12T11:17:37+0000', 'likes': {'data': [], 'paging': {'cursors': {'before': 'MTAyMTcwMjg5MTU5MDE1MzEZD', 'after': 'MTAzNTI5NTg4MzI4NDc1NwZDZD'}}, 'summary': {'total_count': 9, 'can_like': True, 'has_liked': False}}}, {'id': '215473732566847_215935885853965', 'message': 'Disfruta de las playas paradisíacas de Los Cristianos\\n\\n#Tenerife #Playas #VenAlParaiso #LosCristianos #LasVistas', 'from': {'name': 'Turismo Tenerife', 'id': '215473732566847'}, 'created_time': '2018-06-12T11:06:06+0000', 'likes': {'data': [], 'paging': {'cursors': {'before': 'MTAyMTIyOTAxODUyMzUxMjUZD', 'after': 'MTIyNTQ5OTY5NDI1MjI0MwZDZD'}}, 'summary': {'total_count': 9, 'can_like': True, 'has_liked': False}}}, {'id': '215473732566847_215933575854196', 'message': 'Observa el vasto campo de lava que se extiende desde Montaña Grande hasta el mar en Güimar. Disfruta del paisaje de antaño en Canarias.\\n\\n#Malpais #MontañaGrande #Güimar #Tenerife #Volcán #Pirámides', 'from': {'name': 'Turismo Tenerife', 'id': '215473732566847'}, 'created_time': '2018-06-12T10:59:00+0000', 'likes': {'data': [], 'paging': {'cursors': {'before': 'MTY5MDg3OTc3NDI4MTEzMwZDZD', 'after': 'MjE1NDczNzMyNTY2ODQ3'}}, 'summary': {'total_count': 10, 'can_like': True, 'has_liked': False}}}, {'id': '215473732566847_215906422523578', 'message': 'Lánzate al mar y navega por sus costas para obtener una nueva experiencia.\\n\\nRelájate y disfruta del espectacular Acantilado de Los Gigantes en compañía de los delfines.\\n#Tenerife #Paraiso #Gigantes #Delfines #Relax', 'from': {'name': 'Turismo Tenerife', 'id': '215473732566847'}, 'created_time': '2018-06-12T09:54:46+0000', 'likes': {'data': [], 'paging': {'cursors': {'before': 'MTAyMTIyOTAxODUyMzUxMjUZD', 'after': 'MjE1NDczNzMyNTY2ODQ3'}}, 'summary': {'total_count': 8, 'can_like': True, 'has_liked': False}}}, {'id': '215473732566847_215895005858053', 'message': 'Garachico la joya de Tenerife \\n#Tenerife #VenAlParaiso #Joya #GaleonEnterrado #PiscinasNaturales', 'from': {'name': 'Turismo Tenerife', 'id': '215473732566847'}, 'created_time': '2018-06-12T09:17:51+0000', 'likes': {'data': [], 'paging': {'cursors': {'before': 'MTAyMTcwMjg5MTU5MDE1MzEZD', 'after': 'MjE1NDczNzMyNTY2ODQ3'}}, 'summary': {'total_count': 9, 'can_like': True, 'has_liked': False}}}, {'id': '215473732566847_215890599191827', 'created_time': '2018-06-12T08:56:37+0000', 'likes': {'data': [], 'summary': {'total_count': 0, 'can_like': True, 'has_liked': False}}}, {'id': '215473732566847_215611149219772', 'message': 'Visita el pueblo de Candelaria, con la basílica como foco turístico y con las delicias del mar como plato estrella #Candelaria #Tenerife #PatronaDeCanarias', 'from': {'name': 'Turismo Tenerife', 'id': '215473732566847'}, 'created_time': '2018-06-11T16:20:14+0000', 'likes': {'data': [], 'paging': {'cursors': {'before': 'MTAyMTcwMjg5MTU5MDE1MzEZD', 'after': 'MjE1NDczNzMyNTY2ODQ3'}}, 'summary': {'total_count': 8, 'can_like': True, 'has_liked': False}}}, {'id': '215473732566847_215519395895614', 'message': 'Pasea por historia viva en una de las ciudades más emblemáticas de Canarias. Calidez, ocio y cultura en la bella La Laguna\\n\\n#LaLaguna #Tenerife #PatrimonioDeLaHumanidad #VenAlParaiso', 'shares': {'count': 1}, 'from': {'name': 'Turismo Tenerife', 'id': '215473732566847'}, 'created_time': '2018-06-11T12:21:08+0000', 'likes': {'data': [], 'paging': {'cursors': {'before': 'MTAyMTcwMjg5MTU5MDE1MzEZD', 'after': 'MjE1NDczNzMyNTY2ODQ3'}}, 'summary': {'total_count': 8, 'can_like': True, 'has_liked': False}}}, {'id': '215473732566847_215516722562548', 'message': 'Santa Cruz ocio y diversión\\n#SC #Tenerife #VenAlParaiso', 'shares': {'count': 1}, 'from': {'name': 'Turismo Tenerife', 'id': '215473732566847'}, 'created_time': '2018-06-11T12:14:11+0000', 'likes': {'data': [], 'paging': {'cursors': {'before': 'MTAyMTI1MTcwNzMxNDY5MjkZD', 'after': 'MjE1NDczNzMyNTY2ODQ3'}}, 'summary': {'total_count': 6, 'can_like': True, 'has_liked': False}}}, {'id': '215473732566847_215511445896409', 'message': 'Ven al Puerto de la Cruz, ciudad costera de Tenerife con playas de arena volcánica oscura y con el inmenso zoo Loro Parque, ideal para descansar, otro rincón del paraíso\\n\\n#PuertodelaCruz #Tenerife #Canarias #LoroParque #Playas #VenAlParaiso', 'from': {'name': 'Turismo Tenerife', 'id': '215473732566847'}, 'created_time': '2018-06-11T11:58:35+0000', 'likes': {'data': [], 'paging': {'cursors': {'before': 'MTAyMTcwMjg5MTU5MDE1MzEZD', 'after': 'MjE1NDczNzMyNTY2ODQ3'}}, 'summary': {'total_count': 9, 'can_like': True, 'has_liked': False}}}, {'id': '215473732566847_215502852563935', 'message': '¿Quieres descubrir qué hay más allá de las nubes? En Tenerife tenemos el lugar idílico. El Teide, el lugar más alto de España, 3.718 metros de fauna, flora y paisajes inigualables\\n\\n#Tenerifelicidad #VenAlParaíso #Tenerife #PadreTeide #Teide #Volcán', 'shares': {'count': 1}, 'from': {'name': 'Turismo Tenerife', 'id': '215473732566847'}, 'created_time': '2018-06-11T11:31:48+0000', 'likes': {'data': [], 'paging': {'cursors': {'before': 'MTAyMTcwMjg5MTU5MDE1MzEZD', 'after': 'MjE1NDczNzMyNTY2ODQ3'}}, 'summary': {'total_count': 6, 'can_like': True, 'has_liked': False}}}, {'id': '215473732566847_215474129233474', 'from': {'name': 'Turismo Tenerife', 'id': '215473732566847'}, 'created_time': '2018-06-11T10:04:43+0000', 'likes': {'data': [], 'paging': {'cursors': {'before': 'MTAyMTcwMjg5MTU5MDE1MzEZD', 'after': 'NDcyMDcxMjE2NTQ5MDI5'}}, 'summary': {'total_count': 4, 'can_like': True, 'has_liked': False}}}, {'id': '215473732566847_215473889233498', 'from': {'name': 'Turismo Tenerife', 'id': '215473732566847'}, 'created_time': '2018-06-11T10:03:37+0000', 'likes': {'data': [], 'paging': {'cursors': {'before': 'MTAyMTI2NjgwMjA4Nzk5NTkZD', 'after': 'MTAyMTI2NjgwMjA4Nzk5NTkZD'}}, 'summary': {'total_count': 1, 'can_like': True, 'has_liked': False}}}], 'paging': {'cursors': {'before': 'Q2c4U1pXNTBYM0YxWlhKNVgzTjBiM0o1WDJsa0R5UXlNVFUwTnpNM016STFOalk0TkRjNkxUVTJOamcxT1RBd01UazBNamt4TmpjMU1UUVBER0ZA3YVY5emRHOXllVjlwWkE4ZAk1qRTFORGN6TnpNeU5UWTJPRFEzWHpJeE5UazBNalF3TWpVeE9UazRNQThFZAEdsdFpRWmJINjNDQVE9PQZDZD', 'after': 'Q2c4U1pXNTBYM0YxWlhKNVgzTjBiM0o1WDJsa0R5TXlNVFUwTnpNM016STFOalk0TkRjNk5UTTBNall3TnpFM05URTBOVFF6TWpnMk9ROE1ZAWEJwWDNOMGIzSjVYMmxrRHg4eU1UVTBOek0zTXpJMU5qWTRORGRmTWpFMU5EY3pPRGc1TWpNek5EazREd1IwYVcxbEJsc2VTUGtC'}}}\n"
     ]
    }
   ],
   "source": [
    "id = \"215473732566847\"              # id de la página que va a ser analizada\n",
    "\"\"\"Páginas usadas\n",
    " * tenerifevacanze\n",
    " * VisitTenerifeES\n",
    " * siampark\n",
    " * 215473732566847\"\"\"\n",
    "\n",
    "\n",
    "\n",
    "url = 'https://graph.facebook.com/v2.12/'\n",
    "page_url = 'https://graph.facebook.com/v2.12/%s/feed?fields=id,message,reactions,shares,from,caption,created_time,likes.summary(true)' %id\n",
    "print(page_url)\n",
    "# Todos los campos deben de ser especificados\n",
    "comments_url = 'https://graph.facebook.com/v2.12/{post_id}/comments?filter=stream&limit=100'\n",
    "\n",
    "# Variable con el token de acceso de Facebook\n",
    "params = {'access_token' : 'EAANBb7LjFH8BAM8Gn8bwOkcPZAqhu14iNxsz7M0FE5MAzUYtU6ZBBuW8Fz8iSRaEV9yslYEqZCN6Du3aBKXGz4eCuSGzJ1uroi99lvzStJI9SeL8XZCo8QrQaLUD1ZANZBXdit4QBtcd5QojH21JIV1loqyxrGd1qYdTU6Ekv5UQZDZD'}\n",
    "posts = requests.get(page_url, params = params)\n",
    "posts = posts.json()\n",
    "print(posts)"
   ]
  },
  {
   "cell_type": "code",
   "execution_count": 96,
   "metadata": {},
   "outputs": [
    {
     "name": "stdout",
     "output_type": "stream",
     "text": [
      "Recopilando datos...\n",
      "'next'\n",
      "Datos recopilados\n"
     ]
    }
   ],
   "source": [
    "# Data extraction\n",
    "\n",
    "while True:\n",
    "    try:\n",
    "        print(\"Recopilando datos...\")\n",
    "        ### Recupera un post\n",
    "        for element in posts['data']:\n",
    "            collection_posts.insert_one(element)\n",
    "            #### Recupera todos los comentarios de ese post\n",
    "            this_comment_url = comments_url.replace(\"{post_id}\", element['id'])\n",
    "            comments = requests.get(this_comment_url, params = params).json()\n",
    "            # Recorre todos los comentarios hasta que la respuesta esté vacía, que no haya más comentarios\n",
    "            while ('paging' in comments and 'cursors' in comments['paging'] and 'after' in comments['paging']['cursors']):\n",
    "                ### Itera a través de todos los comentarios\n",
    "                for comment in comments['data']:\n",
    "                    comment['post_id'] = element['id']\n",
    "                    collection_comments.insert_one(comment)\n",
    "                comments = requests.get(this_comment_url + '&after=' + comments['paging']['cursors']['after'], params = params).json()\n",
    "        #### Vamos a la siguiente página en feed\n",
    "        posts = requests.get(posts['paging']['next']).json()\n",
    "    except KeyError as e:\n",
    "        print(e)\n",
    "        break\n",
    "\n",
    "print(\"Datos recopilados\")\n"
   ]
  },
  {
   "cell_type": "code",
   "execution_count": 97,
   "metadata": {},
   "outputs": [
    {
     "name": "stdout",
     "output_type": "stream",
     "text": [
      "11\n",
      "14\n"
     ]
    }
   ],
   "source": [
    "# Data pull\n",
    "\n",
    "posts_data = []\n",
    "comments_data = []\n",
    "\n",
    "for doc in collection_posts.find({}):\n",
    "    if 'message' in doc.keys():\n",
    "        posts_data.append((doc['message'], doc['created_time'], doc['likes']['summary']['total_count'], doc.get('shares', {'count': 0})['count'], doc['id']))\n",
    "    else:\n",
    "        pass\n",
    "        #print(\"No message\")\n",
    "        \n",
    "print(len(posts_data))\n",
    "    \n",
    "for comment in collection_comments.find({}):\n",
    "    if 'message' in comment.keys():\n",
    "        comments_data.append((comment['message'], comment['created_time'], comment['post_id']))\n",
    "    else:\n",
    "        pass\n",
    "\n",
    "print(len(comments_data))"
   ]
  },
  {
   "cell_type": "code",
   "execution_count": 98,
   "metadata": {},
   "outputs": [
    {
     "name": "stdout",
     "output_type": "stream",
     "text": [
      "                                              message  \\\n",
      "0                     Eu quero ir lá #Tenerife #Drago   \n",
      "1   Une belle expérience sans aucun doute! Je le r...   \n",
      "2   Es cierto que tiene más de mil años? He leído ...   \n",
      "3   Super guay para ir de excursión!! #Tenerife #P...   \n",
      "4   A perfect place to relax with your family #par...   \n",
      "5              So beautiful #Paradise #Tenerifeisland   \n",
      "6                                     Beautiful city!   \n",
      "7                                    Mi ciudad bonita   \n",
      "8            questa è la spiaggia più bella #Tenerife   \n",
      "9   Wonderful island !!! Precious 100% #Puertodela...   \n",
      "10        Eu amo essa praia #PuertodelaCruz #Tenerife   \n",
      "11                Una maravilla. #Teide #VenAlParaiso   \n",
      "12  It was so fun and so beautiful that I want to ...   \n",
      "13  El paisaje más espectacular que verás  en tu v...   \n",
      "\n",
      "                created_time                          post_id  \n",
      "0   2018-06-12T12:08:36+0000  215473732566847_215942402519980  \n",
      "1   2018-06-12T13:04:11+0000  215473732566847_215942402519980  \n",
      "2   2018-06-12T13:22:20+0000  215473732566847_215942402519980  \n",
      "3   2018-06-12T11:58:12+0000  215473732566847_215939769186910  \n",
      "4   2018-06-12T11:44:56+0000  215473732566847_215935885853965  \n",
      "5   2018-06-12T12:06:15+0000  215473732566847_215933575854196  \n",
      "6   2018-06-12T11:31:18+0000  215473732566847_215519395895614  \n",
      "7   2018-06-12T11:59:20+0000  215473732566847_215519395895614  \n",
      "8   2018-06-12T08:39:35+0000  215473732566847_215516722562548  \n",
      "9   2018-06-12T08:55:13+0000  215473732566847_215511445896409  \n",
      "10  2018-06-12T11:48:19+0000  215473732566847_215511445896409  \n",
      "11  2018-06-11T12:01:41+0000  215473732566847_215502852563935  \n",
      "12  2018-06-12T11:50:02+0000  215473732566847_215502852563935  \n",
      "13  2018-06-12T15:33:45+0000  215473732566847_215502852563935  \n"
     ]
    }
   ],
   "source": [
    "df_posts = pandas.DataFrame(posts_data)\n",
    "df_posts.columns = ['message', 'created_time', 'likes', 'shares', 'post_id']\n",
    "df_comments = pandas.DataFrame(comments_data)\n",
    "df_comments.columns = ['message', 'created_time', 'post_id']\n",
    "print(df_comments)"
   ]
  },
  {
   "cell_type": "code",
   "execution_count": 103,
   "metadata": {},
   "outputs": [
    {
     "name": "stdout",
     "output_type": "stream",
     "text": [
      "                                              message  \\\n",
      "0   Recorre la cueva del viento, el tubo volcánico...   \n",
      "1   Piérdete en los montes de Anaga  y disfruta de...   \n",
      "2   Disfruta de las playas paradisíacas de Los Cri...   \n",
      "3   Observa el vasto campo de lava que se extiende...   \n",
      "4   Lánzate al mar y navega por sus costas para ob...   \n",
      "5   Garachico la joya de Tenerife \\n#Tenerife #Ven...   \n",
      "6   Visita el pueblo de Candelaria, con la basílic...   \n",
      "7   Pasea por historia viva en una de las ciudades...   \n",
      "8   Santa Cruz ocio y diversión\\n#SC #Tenerife #Ve...   \n",
      "9   Ven al Puerto de la Cruz, ciudad costera de Te...   \n",
      "10  ¿Quieres descubrir qué hay más allá de las nub...   \n",
      "\n",
      "                created_time  likes  shares                          post_id  \n",
      "0   2018-06-12T11:25:54+0000     12       1  215473732566847_215942402519980  \n",
      "1   2018-06-12T11:17:37+0000      9       0  215473732566847_215939769186910  \n",
      "2   2018-06-12T11:06:06+0000      9       0  215473732566847_215935885853965  \n",
      "3   2018-06-12T10:59:00+0000     10       0  215473732566847_215933575854196  \n",
      "4   2018-06-12T09:54:46+0000      8       0  215473732566847_215906422523578  \n",
      "5   2018-06-12T09:17:51+0000      9       0  215473732566847_215895005858053  \n",
      "6   2018-06-11T16:20:14+0000      8       0  215473732566847_215611149219772  \n",
      "7   2018-06-11T12:21:08+0000      8       1  215473732566847_215519395895614  \n",
      "8   2018-06-11T12:14:11+0000      6       1  215473732566847_215516722562548  \n",
      "9   2018-06-11T11:58:35+0000      9       0  215473732566847_215511445896409  \n",
      "10  2018-06-11T11:31:48+0000      6       1  215473732566847_215502852563935  \n"
     ]
    }
   ],
   "source": [
    "# Feature extraction\n",
    "\n",
    "# Funciones\n",
    "\n",
    "# Limpia comentarios y posts\n",
    "def preprocess(text):\n",
    "    # Limpieza básica\n",
    "    # Limpia de espacios y signos de puntuación, y convierte en minúscula\n",
    "    text = text.strip()\n",
    "    text = re.sub(r'[^\\w\\s]','',text)\n",
    "    text = text.lower()\n",
    "\n",
    "    # Divide en tokens\n",
    "    tokens = nltk.word_tokenize(text) \n",
    "\n",
    "    return(tokens)\n",
    "\n",
    "# Obtiene los hastags de los mensajes\n",
    "def get_hashtags(text):\n",
    "    hashtags = re.findall(r\"#(\\w+)\", text)\n",
    "    print(len(hashtags))\n",
    "    return(hashtags)\n",
    "\n",
    "# \n",
    "def tag_tokens(preprocessed_tokens):\n",
    "    pos = nltk.pos_tag(preprocessed_tokens)\n",
    "    return(pos)\n",
    "\n",
    "# \n",
    "def get_keywords(tagged_tokens, pos='all'):\n",
    "\n",
    "    if(pos == 'all'):\n",
    "        lst_pos = ('NN','JJ','VB')\n",
    "    elif(pos == 'nouns'):\n",
    "        lst_pos = 'NN'\n",
    "    elif(pos == 'verbs'):\n",
    "        lst_pos = 'VB'\n",
    "    elif(pos == 'adjectives'):\n",
    "        lst_pos = 'JJ'\n",
    "    else:\n",
    "        lst_pos = ('NN','JJ','VB')\n",
    "\n",
    "    keywords = [tup[0] for tup in tagged_tokens if tup[1].startswith(lst_pos)]\n",
    "    return(keywords)\n",
    "\n",
    "def get_noun_phrases(tagged_tokens):\n",
    "\n",
    "    grammar = \"NP: {<DT>?<JJ>*<NN>}\"\n",
    "    cp = nltk.RegexpParser(grammar)\n",
    "    tree = cp.parse(tagged_tokens)\n",
    "\n",
    "    result = []\n",
    "    for subtree in tree.subtrees(filter=lambda t: t.label() == 'NP'):\n",
    "        #Solo tomamos frases, no palabras sueltas\n",
    "        if(len(subtree.leaves()) > 1):\n",
    "            outputs = [tup[0] for tup in subtree.leaves()]\n",
    "            outputs = \" \".join(outputs)\n",
    "            result.append(outputs)\n",
    "    return(result)\n",
    "\n",
    "def execute_pipeline(dataframe):\n",
    "    print(\"Entro execute pipeline\")\n",
    "    #Obtener hashtags\n",
    "    dataframe['hashtags'] = dataframe.agregate(lambda x: get_hashtags(x['message']), axis=1)\n",
    "    print(\"Paso 1\")\n",
    "    #\n",
    "    dataframe['preprocessed'] = dataframe.apply(lambda x: preprocess(x['message']), axis=1, reduce=False)\n",
    "    print(\"Paso 2\")\n",
    "    #\n",
    "    dataframe['tagged'] = dataframe.apply(lambda x: tag_tokens(x['preprocessed']), axis=1)\n",
    "    print(\"Paso 3\") \n",
    "    #Extraer palabras clave\n",
    "    dataframe['keywords'] = dataframe.apply(lambda x: get_keywords(x['tagged'], 'all'), axis=1)\n",
    "    print(\"Paso 4\")\n",
    "    #\n",
    "    dataframe['noun_phrases'] = dataframe.apply(lambda x: get_noun_phrases(x['tagged']), axis=1)\n",
    "    print(\"Paso 5\")\n",
    "    print(\"Salgo execute pipeline\")\n",
    "    return(dataframe)\n",
    "\n",
    "print(df_posts)"
   ]
  },
  {
   "cell_type": "code",
   "execution_count": 104,
   "metadata": {},
   "outputs": [
    {
     "name": "stdout",
     "output_type": "stream",
     "text": [
      "Entro execute pipeline\n",
      "5\n",
      "5\n",
      "5\n",
      "5\n",
      "6\n",
      "5\n",
      "5\n",
      "3\n",
      "4\n",
      "3\n",
      "6\n",
      "6\n"
     ]
    },
    {
     "ename": "ValueError",
     "evalue": "could not broadcast input array from shape (6) into shape (5)",
     "output_type": "error",
     "traceback": [
      "\u001b[1;31m---------------------------------------------------------------------------\u001b[0m",
      "\u001b[1;31mValueError\u001b[0m                                Traceback (most recent call last)",
      "\u001b[1;32m<ipython-input-104-00c554ee0bbd>\u001b[0m in \u001b[0;36m<module>\u001b[1;34m()\u001b[0m\n\u001b[1;32m----> 1\u001b[1;33m \u001b[0mdf_posts\u001b[0m \u001b[1;33m=\u001b[0m \u001b[0mexecute_pipeline\u001b[0m\u001b[1;33m(\u001b[0m\u001b[0mdf_posts\u001b[0m\u001b[1;33m)\u001b[0m\u001b[1;33m\u001b[0m\u001b[0m\n\u001b[0m",
      "\u001b[1;32m<ipython-input-103-abe0d2f00a25>\u001b[0m in \u001b[0;36mexecute_pipeline\u001b[1;34m(dataframe)\u001b[0m\n\u001b[0;32m     62\u001b[0m     \u001b[0mprint\u001b[0m\u001b[1;33m(\u001b[0m\u001b[1;34m\"Entro execute pipeline\"\u001b[0m\u001b[1;33m)\u001b[0m\u001b[1;33m\u001b[0m\u001b[0m\n\u001b[0;32m     63\u001b[0m     \u001b[1;31m#Obtener hashtags\u001b[0m\u001b[1;33m\u001b[0m\u001b[1;33m\u001b[0m\u001b[0m\n\u001b[1;32m---> 64\u001b[1;33m     \u001b[0mdataframe\u001b[0m\u001b[1;33m[\u001b[0m\u001b[1;34m'hashtags'\u001b[0m\u001b[1;33m]\u001b[0m \u001b[1;33m=\u001b[0m \u001b[0mdataframe\u001b[0m\u001b[1;33m.\u001b[0m\u001b[0mapply\u001b[0m\u001b[1;33m(\u001b[0m\u001b[1;32mlambda\u001b[0m \u001b[0mx\u001b[0m\u001b[1;33m:\u001b[0m \u001b[0mget_hashtags\u001b[0m\u001b[1;33m(\u001b[0m\u001b[0mx\u001b[0m\u001b[1;33m[\u001b[0m\u001b[1;34m'message'\u001b[0m\u001b[1;33m]\u001b[0m\u001b[1;33m)\u001b[0m\u001b[1;33m,\u001b[0m \u001b[0maxis\u001b[0m\u001b[1;33m=\u001b[0m\u001b[1;36m1\u001b[0m\u001b[1;33m,\u001b[0m \u001b[0mraw\u001b[0m\u001b[1;33m=\u001b[0m\u001b[1;32mFalse\u001b[0m\u001b[1;33m)\u001b[0m\u001b[1;33m\u001b[0m\u001b[0m\n\u001b[0m\u001b[0;32m     65\u001b[0m     \u001b[0mprint\u001b[0m\u001b[1;33m(\u001b[0m\u001b[1;34m\"Paso 1\"\u001b[0m\u001b[1;33m)\u001b[0m\u001b[1;33m\u001b[0m\u001b[0m\n\u001b[0;32m     66\u001b[0m     \u001b[1;31m#\u001b[0m\u001b[1;33m\u001b[0m\u001b[1;33m\u001b[0m\u001b[0m\n",
      "\u001b[1;32md:\\python\\lib\\site-packages\\pandas\\core\\frame.py\u001b[0m in \u001b[0;36mapply\u001b[1;34m(self, func, axis, broadcast, raw, reduce, args, **kwds)\u001b[0m\n\u001b[0;32m   4875\u001b[0m                         \u001b[0mf\u001b[0m\u001b[1;33m,\u001b[0m \u001b[0maxis\u001b[0m\u001b[1;33m,\u001b[0m\u001b[1;33m\u001b[0m\u001b[0m\n\u001b[0;32m   4876\u001b[0m                         \u001b[0mreduce\u001b[0m\u001b[1;33m=\u001b[0m\u001b[0mreduce\u001b[0m\u001b[1;33m,\u001b[0m\u001b[1;33m\u001b[0m\u001b[0m\n\u001b[1;32m-> 4877\u001b[1;33m                         ignore_failures=ignore_failures)\n\u001b[0m\u001b[0;32m   4878\u001b[0m             \u001b[1;32melse\u001b[0m\u001b[1;33m:\u001b[0m\u001b[1;33m\u001b[0m\u001b[0m\n\u001b[0;32m   4879\u001b[0m                 \u001b[1;32mreturn\u001b[0m \u001b[0mself\u001b[0m\u001b[1;33m.\u001b[0m\u001b[0m_apply_broadcast\u001b[0m\u001b[1;33m(\u001b[0m\u001b[0mf\u001b[0m\u001b[1;33m,\u001b[0m \u001b[0maxis\u001b[0m\u001b[1;33m)\u001b[0m\u001b[1;33m\u001b[0m\u001b[0m\n",
      "\u001b[1;32md:\\python\\lib\\site-packages\\pandas\\core\\frame.py\u001b[0m in \u001b[0;36m_apply_standard\u001b[1;34m(self, func, axis, ignore_failures, reduce)\u001b[0m\n\u001b[0;32m   4988\u001b[0m                 \u001b[0mindex\u001b[0m \u001b[1;33m=\u001b[0m \u001b[1;32mNone\u001b[0m\u001b[1;33m\u001b[0m\u001b[0m\n\u001b[0;32m   4989\u001b[0m \u001b[1;33m\u001b[0m\u001b[0m\n\u001b[1;32m-> 4990\u001b[1;33m             \u001b[0mresult\u001b[0m \u001b[1;33m=\u001b[0m \u001b[0mself\u001b[0m\u001b[1;33m.\u001b[0m\u001b[0m_constructor\u001b[0m\u001b[1;33m(\u001b[0m\u001b[0mdata\u001b[0m\u001b[1;33m=\u001b[0m\u001b[0mresults\u001b[0m\u001b[1;33m,\u001b[0m \u001b[0mindex\u001b[0m\u001b[1;33m=\u001b[0m\u001b[0mindex\u001b[0m\u001b[1;33m)\u001b[0m\u001b[1;33m\u001b[0m\u001b[0m\n\u001b[0m\u001b[0;32m   4991\u001b[0m             \u001b[0mresult\u001b[0m\u001b[1;33m.\u001b[0m\u001b[0mcolumns\u001b[0m \u001b[1;33m=\u001b[0m \u001b[0mres_index\u001b[0m\u001b[1;33m\u001b[0m\u001b[0m\n\u001b[0;32m   4992\u001b[0m \u001b[1;33m\u001b[0m\u001b[0m\n",
      "\u001b[1;32md:\\python\\lib\\site-packages\\pandas\\core\\frame.py\u001b[0m in \u001b[0;36m__init__\u001b[1;34m(self, data, index, columns, dtype, copy)\u001b[0m\n\u001b[0;32m    328\u001b[0m                                  dtype=dtype, copy=copy)\n\u001b[0;32m    329\u001b[0m         \u001b[1;32melif\u001b[0m \u001b[0misinstance\u001b[0m\u001b[1;33m(\u001b[0m\u001b[0mdata\u001b[0m\u001b[1;33m,\u001b[0m \u001b[0mdict\u001b[0m\u001b[1;33m)\u001b[0m\u001b[1;33m:\u001b[0m\u001b[1;33m\u001b[0m\u001b[0m\n\u001b[1;32m--> 330\u001b[1;33m             \u001b[0mmgr\u001b[0m \u001b[1;33m=\u001b[0m \u001b[0mself\u001b[0m\u001b[1;33m.\u001b[0m\u001b[0m_init_dict\u001b[0m\u001b[1;33m(\u001b[0m\u001b[0mdata\u001b[0m\u001b[1;33m,\u001b[0m \u001b[0mindex\u001b[0m\u001b[1;33m,\u001b[0m \u001b[0mcolumns\u001b[0m\u001b[1;33m,\u001b[0m \u001b[0mdtype\u001b[0m\u001b[1;33m=\u001b[0m\u001b[0mdtype\u001b[0m\u001b[1;33m)\u001b[0m\u001b[1;33m\u001b[0m\u001b[0m\n\u001b[0m\u001b[0;32m    331\u001b[0m         \u001b[1;32melif\u001b[0m \u001b[0misinstance\u001b[0m\u001b[1;33m(\u001b[0m\u001b[0mdata\u001b[0m\u001b[1;33m,\u001b[0m \u001b[0mma\u001b[0m\u001b[1;33m.\u001b[0m\u001b[0mMaskedArray\u001b[0m\u001b[1;33m)\u001b[0m\u001b[1;33m:\u001b[0m\u001b[1;33m\u001b[0m\u001b[0m\n\u001b[0;32m    332\u001b[0m             \u001b[1;32mimport\u001b[0m \u001b[0mnumpy\u001b[0m\u001b[1;33m.\u001b[0m\u001b[0mma\u001b[0m\u001b[1;33m.\u001b[0m\u001b[0mmrecords\u001b[0m \u001b[1;32mas\u001b[0m \u001b[0mmrecords\u001b[0m\u001b[1;33m\u001b[0m\u001b[0m\n",
      "\u001b[1;32md:\\python\\lib\\site-packages\\pandas\\core\\frame.py\u001b[0m in \u001b[0;36m_init_dict\u001b[1;34m(self, data, index, columns, dtype)\u001b[0m\n\u001b[0;32m    459\u001b[0m             \u001b[0marrays\u001b[0m \u001b[1;33m=\u001b[0m \u001b[1;33m[\u001b[0m\u001b[0mdata\u001b[0m\u001b[1;33m[\u001b[0m\u001b[0mk\u001b[0m\u001b[1;33m]\u001b[0m \u001b[1;32mfor\u001b[0m \u001b[0mk\u001b[0m \u001b[1;32min\u001b[0m \u001b[0mkeys\u001b[0m\u001b[1;33m]\u001b[0m\u001b[1;33m\u001b[0m\u001b[0m\n\u001b[0;32m    460\u001b[0m \u001b[1;33m\u001b[0m\u001b[0m\n\u001b[1;32m--> 461\u001b[1;33m         \u001b[1;32mreturn\u001b[0m \u001b[0m_arrays_to_mgr\u001b[0m\u001b[1;33m(\u001b[0m\u001b[0marrays\u001b[0m\u001b[1;33m,\u001b[0m \u001b[0mdata_names\u001b[0m\u001b[1;33m,\u001b[0m \u001b[0mindex\u001b[0m\u001b[1;33m,\u001b[0m \u001b[0mcolumns\u001b[0m\u001b[1;33m,\u001b[0m \u001b[0mdtype\u001b[0m\u001b[1;33m=\u001b[0m\u001b[0mdtype\u001b[0m\u001b[1;33m)\u001b[0m\u001b[1;33m\u001b[0m\u001b[0m\n\u001b[0m\u001b[0;32m    462\u001b[0m \u001b[1;33m\u001b[0m\u001b[0m\n\u001b[0;32m    463\u001b[0m     \u001b[1;32mdef\u001b[0m \u001b[0m_init_ndarray\u001b[0m\u001b[1;33m(\u001b[0m\u001b[0mself\u001b[0m\u001b[1;33m,\u001b[0m \u001b[0mvalues\u001b[0m\u001b[1;33m,\u001b[0m \u001b[0mindex\u001b[0m\u001b[1;33m,\u001b[0m \u001b[0mcolumns\u001b[0m\u001b[1;33m,\u001b[0m \u001b[0mdtype\u001b[0m\u001b[1;33m=\u001b[0m\u001b[1;32mNone\u001b[0m\u001b[1;33m,\u001b[0m \u001b[0mcopy\u001b[0m\u001b[1;33m=\u001b[0m\u001b[1;32mFalse\u001b[0m\u001b[1;33m)\u001b[0m\u001b[1;33m:\u001b[0m\u001b[1;33m\u001b[0m\u001b[0m\n",
      "\u001b[1;32md:\\python\\lib\\site-packages\\pandas\\core\\frame.py\u001b[0m in \u001b[0;36m_arrays_to_mgr\u001b[1;34m(arrays, arr_names, index, columns, dtype)\u001b[0m\n\u001b[0;32m   6171\u001b[0m     \u001b[0maxes\u001b[0m \u001b[1;33m=\u001b[0m \u001b[1;33m[\u001b[0m\u001b[0m_ensure_index\u001b[0m\u001b[1;33m(\u001b[0m\u001b[0mcolumns\u001b[0m\u001b[1;33m)\u001b[0m\u001b[1;33m,\u001b[0m \u001b[0m_ensure_index\u001b[0m\u001b[1;33m(\u001b[0m\u001b[0mindex\u001b[0m\u001b[1;33m)\u001b[0m\u001b[1;33m]\u001b[0m\u001b[1;33m\u001b[0m\u001b[0m\n\u001b[0;32m   6172\u001b[0m \u001b[1;33m\u001b[0m\u001b[0m\n\u001b[1;32m-> 6173\u001b[1;33m     \u001b[1;32mreturn\u001b[0m \u001b[0mcreate_block_manager_from_arrays\u001b[0m\u001b[1;33m(\u001b[0m\u001b[0marrays\u001b[0m\u001b[1;33m,\u001b[0m \u001b[0marr_names\u001b[0m\u001b[1;33m,\u001b[0m \u001b[0maxes\u001b[0m\u001b[1;33m)\u001b[0m\u001b[1;33m\u001b[0m\u001b[0m\n\u001b[0m\u001b[0;32m   6174\u001b[0m \u001b[1;33m\u001b[0m\u001b[0m\n\u001b[0;32m   6175\u001b[0m \u001b[1;33m\u001b[0m\u001b[0m\n",
      "\u001b[1;32md:\\python\\lib\\site-packages\\pandas\\core\\internals.py\u001b[0m in \u001b[0;36mcreate_block_manager_from_arrays\u001b[1;34m(arrays, names, axes)\u001b[0m\n\u001b[0;32m   4640\u001b[0m         \u001b[1;32mreturn\u001b[0m \u001b[0mmgr\u001b[0m\u001b[1;33m\u001b[0m\u001b[0m\n\u001b[0;32m   4641\u001b[0m     \u001b[1;32mexcept\u001b[0m \u001b[0mValueError\u001b[0m \u001b[1;32mas\u001b[0m \u001b[0me\u001b[0m\u001b[1;33m:\u001b[0m\u001b[1;33m\u001b[0m\u001b[0m\n\u001b[1;32m-> 4642\u001b[1;33m         \u001b[0mconstruction_error\u001b[0m\u001b[1;33m(\u001b[0m\u001b[0mlen\u001b[0m\u001b[1;33m(\u001b[0m\u001b[0marrays\u001b[0m\u001b[1;33m)\u001b[0m\u001b[1;33m,\u001b[0m \u001b[0marrays\u001b[0m\u001b[1;33m[\u001b[0m\u001b[1;36m0\u001b[0m\u001b[1;33m]\u001b[0m\u001b[1;33m.\u001b[0m\u001b[0mshape\u001b[0m\u001b[1;33m,\u001b[0m \u001b[0maxes\u001b[0m\u001b[1;33m,\u001b[0m \u001b[0me\u001b[0m\u001b[1;33m)\u001b[0m\u001b[1;33m\u001b[0m\u001b[0m\n\u001b[0m\u001b[0;32m   4643\u001b[0m \u001b[1;33m\u001b[0m\u001b[0m\n\u001b[0;32m   4644\u001b[0m \u001b[1;33m\u001b[0m\u001b[0m\n",
      "\u001b[1;32md:\\python\\lib\\site-packages\\pandas\\core\\internals.py\u001b[0m in \u001b[0;36mconstruction_error\u001b[1;34m(tot_items, block_shape, axes, e)\u001b[0m\n\u001b[0;32m   4602\u001b[0m     \u001b[0mimplied\u001b[0m \u001b[1;33m=\u001b[0m \u001b[0mtuple\u001b[0m\u001b[1;33m(\u001b[0m\u001b[0mmap\u001b[0m\u001b[1;33m(\u001b[0m\u001b[0mint\u001b[0m\u001b[1;33m,\u001b[0m \u001b[1;33m[\u001b[0m\u001b[0mlen\u001b[0m\u001b[1;33m(\u001b[0m\u001b[0max\u001b[0m\u001b[1;33m)\u001b[0m \u001b[1;32mfor\u001b[0m \u001b[0max\u001b[0m \u001b[1;32min\u001b[0m \u001b[0maxes\u001b[0m\u001b[1;33m]\u001b[0m\u001b[1;33m)\u001b[0m\u001b[1;33m)\u001b[0m\u001b[1;33m\u001b[0m\u001b[0m\n\u001b[0;32m   4603\u001b[0m     \u001b[1;32mif\u001b[0m \u001b[0mpassed\u001b[0m \u001b[1;33m==\u001b[0m \u001b[0mimplied\u001b[0m \u001b[1;32mand\u001b[0m \u001b[0me\u001b[0m \u001b[1;32mis\u001b[0m \u001b[1;32mnot\u001b[0m \u001b[1;32mNone\u001b[0m\u001b[1;33m:\u001b[0m\u001b[1;33m\u001b[0m\u001b[0m\n\u001b[1;32m-> 4604\u001b[1;33m         \u001b[1;32mraise\u001b[0m \u001b[0me\u001b[0m\u001b[1;33m\u001b[0m\u001b[0m\n\u001b[0m\u001b[0;32m   4605\u001b[0m     \u001b[1;32mif\u001b[0m \u001b[0mblock_shape\u001b[0m\u001b[1;33m[\u001b[0m\u001b[1;36m0\u001b[0m\u001b[1;33m]\u001b[0m \u001b[1;33m==\u001b[0m \u001b[1;36m0\u001b[0m\u001b[1;33m:\u001b[0m\u001b[1;33m\u001b[0m\u001b[0m\n\u001b[0;32m   4606\u001b[0m         \u001b[1;32mraise\u001b[0m \u001b[0mValueError\u001b[0m\u001b[1;33m(\u001b[0m\u001b[1;34m\"Empty data passed with indices specified.\"\u001b[0m\u001b[1;33m)\u001b[0m\u001b[1;33m\u001b[0m\u001b[0m\n",
      "\u001b[1;32md:\\python\\lib\\site-packages\\pandas\\core\\internals.py\u001b[0m in \u001b[0;36mcreate_block_manager_from_arrays\u001b[1;34m(arrays, names, axes)\u001b[0m\n\u001b[0;32m   4635\u001b[0m \u001b[1;33m\u001b[0m\u001b[0m\n\u001b[0;32m   4636\u001b[0m     \u001b[1;32mtry\u001b[0m\u001b[1;33m:\u001b[0m\u001b[1;33m\u001b[0m\u001b[0m\n\u001b[1;32m-> 4637\u001b[1;33m         \u001b[0mblocks\u001b[0m \u001b[1;33m=\u001b[0m \u001b[0mform_blocks\u001b[0m\u001b[1;33m(\u001b[0m\u001b[0marrays\u001b[0m\u001b[1;33m,\u001b[0m \u001b[0mnames\u001b[0m\u001b[1;33m,\u001b[0m \u001b[0maxes\u001b[0m\u001b[1;33m)\u001b[0m\u001b[1;33m\u001b[0m\u001b[0m\n\u001b[0m\u001b[0;32m   4638\u001b[0m         \u001b[0mmgr\u001b[0m \u001b[1;33m=\u001b[0m \u001b[0mBlockManager\u001b[0m\u001b[1;33m(\u001b[0m\u001b[0mblocks\u001b[0m\u001b[1;33m,\u001b[0m \u001b[0maxes\u001b[0m\u001b[1;33m)\u001b[0m\u001b[1;33m\u001b[0m\u001b[0m\n\u001b[0;32m   4639\u001b[0m         \u001b[0mmgr\u001b[0m\u001b[1;33m.\u001b[0m\u001b[0m_consolidate_inplace\u001b[0m\u001b[1;33m(\u001b[0m\u001b[1;33m)\u001b[0m\u001b[1;33m\u001b[0m\u001b[0m\n",
      "\u001b[1;32md:\\python\\lib\\site-packages\\pandas\\core\\internals.py\u001b[0m in \u001b[0;36mform_blocks\u001b[1;34m(arrays, names, axes)\u001b[0m\n\u001b[0;32m   4727\u001b[0m \u001b[1;33m\u001b[0m\u001b[0m\n\u001b[0;32m   4728\u001b[0m     \u001b[1;32mif\u001b[0m \u001b[0mlen\u001b[0m\u001b[1;33m(\u001b[0m\u001b[0mobject_items\u001b[0m\u001b[1;33m)\u001b[0m \u001b[1;33m>\u001b[0m \u001b[1;36m0\u001b[0m\u001b[1;33m:\u001b[0m\u001b[1;33m\u001b[0m\u001b[0m\n\u001b[1;32m-> 4729\u001b[1;33m         \u001b[0mobject_blocks\u001b[0m \u001b[1;33m=\u001b[0m \u001b[0m_simple_blockify\u001b[0m\u001b[1;33m(\u001b[0m\u001b[0mobject_items\u001b[0m\u001b[1;33m,\u001b[0m \u001b[0mnp\u001b[0m\u001b[1;33m.\u001b[0m\u001b[0mobject_\u001b[0m\u001b[1;33m)\u001b[0m\u001b[1;33m\u001b[0m\u001b[0m\n\u001b[0m\u001b[0;32m   4730\u001b[0m         \u001b[0mblocks\u001b[0m\u001b[1;33m.\u001b[0m\u001b[0mextend\u001b[0m\u001b[1;33m(\u001b[0m\u001b[0mobject_blocks\u001b[0m\u001b[1;33m)\u001b[0m\u001b[1;33m\u001b[0m\u001b[0m\n\u001b[0;32m   4731\u001b[0m \u001b[1;33m\u001b[0m\u001b[0m\n",
      "\u001b[1;32md:\\python\\lib\\site-packages\\pandas\\core\\internals.py\u001b[0m in \u001b[0;36m_simple_blockify\u001b[1;34m(tuples, dtype)\u001b[0m\n\u001b[0;32m   4757\u001b[0m     \u001b[1;32mnot\u001b[0m \u001b[1;32mNone\u001b[0m\u001b[1;33m,\u001b[0m \u001b[0mcoerce\u001b[0m \u001b[0mto\u001b[0m \u001b[0mthis\u001b[0m \u001b[0mdtype\u001b[0m\u001b[1;33m\u001b[0m\u001b[0m\n\u001b[0;32m   4758\u001b[0m     \"\"\"\n\u001b[1;32m-> 4759\u001b[1;33m     \u001b[0mvalues\u001b[0m\u001b[1;33m,\u001b[0m \u001b[0mplacement\u001b[0m \u001b[1;33m=\u001b[0m \u001b[0m_stack_arrays\u001b[0m\u001b[1;33m(\u001b[0m\u001b[0mtuples\u001b[0m\u001b[1;33m,\u001b[0m \u001b[0mdtype\u001b[0m\u001b[1;33m)\u001b[0m\u001b[1;33m\u001b[0m\u001b[0m\n\u001b[0m\u001b[0;32m   4760\u001b[0m \u001b[1;33m\u001b[0m\u001b[0m\n\u001b[0;32m   4761\u001b[0m     \u001b[1;31m# CHECK DTYPE?\u001b[0m\u001b[1;33m\u001b[0m\u001b[1;33m\u001b[0m\u001b[0m\n",
      "\u001b[1;32md:\\python\\lib\\site-packages\\pandas\\core\\internals.py\u001b[0m in \u001b[0;36m_stack_arrays\u001b[1;34m(tuples, dtype)\u001b[0m\n\u001b[0;32m   4821\u001b[0m     \u001b[0mstacked\u001b[0m \u001b[1;33m=\u001b[0m \u001b[0mnp\u001b[0m\u001b[1;33m.\u001b[0m\u001b[0mempty\u001b[0m\u001b[1;33m(\u001b[0m\u001b[0mshape\u001b[0m\u001b[1;33m,\u001b[0m \u001b[0mdtype\u001b[0m\u001b[1;33m=\u001b[0m\u001b[0mdtype\u001b[0m\u001b[1;33m)\u001b[0m\u001b[1;33m\u001b[0m\u001b[0m\n\u001b[0;32m   4822\u001b[0m     \u001b[1;32mfor\u001b[0m \u001b[0mi\u001b[0m\u001b[1;33m,\u001b[0m \u001b[0marr\u001b[0m \u001b[1;32min\u001b[0m \u001b[0menumerate\u001b[0m\u001b[1;33m(\u001b[0m\u001b[0marrays\u001b[0m\u001b[1;33m)\u001b[0m\u001b[1;33m:\u001b[0m\u001b[1;33m\u001b[0m\u001b[0m\n\u001b[1;32m-> 4823\u001b[1;33m         \u001b[0mstacked\u001b[0m\u001b[1;33m[\u001b[0m\u001b[0mi\u001b[0m\u001b[1;33m]\u001b[0m \u001b[1;33m=\u001b[0m \u001b[0m_asarray_compat\u001b[0m\u001b[1;33m(\u001b[0m\u001b[0marr\u001b[0m\u001b[1;33m)\u001b[0m\u001b[1;33m\u001b[0m\u001b[0m\n\u001b[0m\u001b[0;32m   4824\u001b[0m \u001b[1;33m\u001b[0m\u001b[0m\n\u001b[0;32m   4825\u001b[0m     \u001b[1;32mreturn\u001b[0m \u001b[0mstacked\u001b[0m\u001b[1;33m,\u001b[0m \u001b[0mplacement\u001b[0m\u001b[1;33m\u001b[0m\u001b[0m\n",
      "\u001b[1;31mValueError\u001b[0m: could not broadcast input array from shape (6) into shape (5)"
     ]
    }
   ],
   "source": [
    "df_posts = execute_pipeline(df_posts)"
   ]
  },
  {
   "cell_type": "code",
   "execution_count": 91,
   "metadata": {},
   "outputs": [
    {
     "name": "stdout",
     "output_type": "stream",
     "text": [
      "                                              message  \\\n",
      "0   Recorre la cueva del viento, el tubo volcánico...   \n",
      "1   Piérdete en los montes de Anaga  y disfruta de...   \n",
      "2   Disfruta de las playas paradisíacas de Los Cri...   \n",
      "3   Observa el vasto campo de lava que se extiende...   \n",
      "4   Lánzate al mar y navega por sus costas para ob...   \n",
      "5   Garachico la joya de Tenerife \\n#Tenerife #Ven...   \n",
      "6   Visita el pueblo de Candelaria, con la basílic...   \n",
      "7   Pasea por historia viva en una de las ciudades...   \n",
      "8   Santa Cruz ocio y diversión\\n#SC #Tenerife #Ve...   \n",
      "9   Ven al Puerto de la Cruz, ciudad costera de Te...   \n",
      "10  ¿Quieres descubrir qué hay más allá de las nub...   \n",
      "\n",
      "                created_time  likes  shares                          post_id  \\\n",
      "0   2018-06-12T11:25:54+0000      8       1  215473732566847_215942402519980   \n",
      "1   2018-06-12T11:17:37+0000      6       0  215473732566847_215939769186910   \n",
      "2   2018-06-12T11:06:06+0000      8       0  215473732566847_215935885853965   \n",
      "3   2018-06-12T10:59:00+0000      8       0  215473732566847_215933575854196   \n",
      "4   2018-06-12T09:54:46+0000      7       0  215473732566847_215906422523578   \n",
      "5   2018-06-12T09:17:51+0000      7       0  215473732566847_215895005858053   \n",
      "6   2018-06-11T16:20:14+0000      7       0  215473732566847_215611149219772   \n",
      "7   2018-06-11T12:21:08+0000      6       0  215473732566847_215519395895614   \n",
      "8   2018-06-11T12:14:11+0000      6       1  215473732566847_215516722562548   \n",
      "9   2018-06-11T11:58:35+0000      6       0  215473732566847_215511445896409   \n",
      "10  2018-06-11T11:31:48+0000      5       1  215473732566847_215502852563935   \n",
      "\n",
      "                  date  \n",
      "0  2018-06-12 11:25:54  \n",
      "1  2018-06-12 11:17:37  \n",
      "2  2018-06-12 11:06:06  \n",
      "3  2018-06-12 10:59:00  \n",
      "4  2018-06-12 09:54:46  \n",
      "5  2018-06-12 09:17:51  \n",
      "6  2018-06-11 16:20:14  \n",
      "7  2018-06-11 12:21:08  \n",
      "8  2018-06-11 12:14:11  \n",
      "9  2018-06-11 11:58:35  \n",
      "10 2018-06-11 11:31:48  \n",
      "                                              message  \\\n",
      "0                     Eu quero ir lá #Tenerife #Drago   \n",
      "1   Une belle expérience sans aucun doute! Je le r...   \n",
      "2   Super guay para ir de excursión!! #Tenerife #P...   \n",
      "3   A perfect place to relax with your family #par...   \n",
      "4              So beautiful #Paradise #Tenerifeisland   \n",
      "5                                     Beautiful city!   \n",
      "6                                    Mi ciudad bonita   \n",
      "7            questa è la spiaggia più bella #Tenerife   \n",
      "8   Wonderful island !!! Precious 100% #Puertodela...   \n",
      "9         Eu amo essa praia #PuertodelaCruz #Tenerife   \n",
      "10                Una maravilla. #Teide #VenAlParaiso   \n",
      "11  It was so fun and so beautiful that I want to ...   \n",
      "\n",
      "                created_time                          post_id  \\\n",
      "0   2018-06-12T12:08:36+0000  215473732566847_215942402519980   \n",
      "1   2018-06-12T13:04:11+0000  215473732566847_215942402519980   \n",
      "2   2018-06-12T11:58:12+0000  215473732566847_215939769186910   \n",
      "3   2018-06-12T11:44:56+0000  215473732566847_215935885853965   \n",
      "4   2018-06-12T12:06:15+0000  215473732566847_215933575854196   \n",
      "5   2018-06-12T11:31:18+0000  215473732566847_215519395895614   \n",
      "6   2018-06-12T11:59:20+0000  215473732566847_215519395895614   \n",
      "7   2018-06-12T08:39:35+0000  215473732566847_215516722562548   \n",
      "8   2018-06-12T08:55:13+0000  215473732566847_215511445896409   \n",
      "9   2018-06-12T11:48:19+0000  215473732566847_215511445896409   \n",
      "10  2018-06-11T12:01:41+0000  215473732566847_215502852563935   \n",
      "11  2018-06-12T11:50:02+0000  215473732566847_215502852563935   \n",
      "\n",
      "                  date  \n",
      "0  2018-06-12 12:08:36  \n",
      "1  2018-06-12 13:04:11  \n",
      "2  2018-06-12 11:58:12  \n",
      "3  2018-06-12 11:44:56  \n",
      "4  2018-06-12 12:06:15  \n",
      "5  2018-06-12 11:31:18  \n",
      "6  2018-06-12 11:59:20  \n",
      "7  2018-06-12 08:39:35  \n",
      "8  2018-06-12 08:55:13  \n",
      "9  2018-06-12 11:48:19  \n",
      "10 2018-06-11 12:01:41  \n",
      "11 2018-06-12 11:50:02  \n",
      "Entro execute pipeline\n",
      "2\n",
      "0\n",
      "2\n",
      "2\n",
      "2\n",
      "0\n",
      "0\n",
      "1\n",
      "2\n",
      "2\n",
      "2\n",
      "2\n"
     ]
    },
    {
     "ename": "ValueError",
     "evalue": "Shape of passed values is (12, 2), indices imply (12, 4)",
     "output_type": "error",
     "traceback": [
      "\u001b[1;31m---------------------------------------------------------------------------\u001b[0m",
      "\u001b[1;31mValueError\u001b[0m                                Traceback (most recent call last)",
      "\u001b[1;32md:\\python\\lib\\site-packages\\pandas\\core\\internals.py\u001b[0m in \u001b[0;36mcreate_block_manager_from_arrays\u001b[1;34m(arrays, names, axes)\u001b[0m\n\u001b[0;32m   4636\u001b[0m     \u001b[1;32mtry\u001b[0m\u001b[1;33m:\u001b[0m\u001b[1;33m\u001b[0m\u001b[0m\n\u001b[1;32m-> 4637\u001b[1;33m         \u001b[0mblocks\u001b[0m \u001b[1;33m=\u001b[0m \u001b[0mform_blocks\u001b[0m\u001b[1;33m(\u001b[0m\u001b[0marrays\u001b[0m\u001b[1;33m,\u001b[0m \u001b[0mnames\u001b[0m\u001b[1;33m,\u001b[0m \u001b[0maxes\u001b[0m\u001b[1;33m)\u001b[0m\u001b[1;33m\u001b[0m\u001b[0m\n\u001b[0m\u001b[0;32m   4638\u001b[0m         \u001b[0mmgr\u001b[0m \u001b[1;33m=\u001b[0m \u001b[0mBlockManager\u001b[0m\u001b[1;33m(\u001b[0m\u001b[0mblocks\u001b[0m\u001b[1;33m,\u001b[0m \u001b[0maxes\u001b[0m\u001b[1;33m)\u001b[0m\u001b[1;33m\u001b[0m\u001b[0m\n",
      "\u001b[1;32md:\\python\\lib\\site-packages\\pandas\\core\\internals.py\u001b[0m in \u001b[0;36mform_blocks\u001b[1;34m(arrays, names, axes)\u001b[0m\n\u001b[0;32m   4728\u001b[0m     \u001b[1;32mif\u001b[0m \u001b[0mlen\u001b[0m\u001b[1;33m(\u001b[0m\u001b[0mobject_items\u001b[0m\u001b[1;33m)\u001b[0m \u001b[1;33m>\u001b[0m \u001b[1;36m0\u001b[0m\u001b[1;33m:\u001b[0m\u001b[1;33m\u001b[0m\u001b[0m\n\u001b[1;32m-> 4729\u001b[1;33m         \u001b[0mobject_blocks\u001b[0m \u001b[1;33m=\u001b[0m \u001b[0m_simple_blockify\u001b[0m\u001b[1;33m(\u001b[0m\u001b[0mobject_items\u001b[0m\u001b[1;33m,\u001b[0m \u001b[0mnp\u001b[0m\u001b[1;33m.\u001b[0m\u001b[0mobject_\u001b[0m\u001b[1;33m)\u001b[0m\u001b[1;33m\u001b[0m\u001b[0m\n\u001b[0m\u001b[0;32m   4730\u001b[0m         \u001b[0mblocks\u001b[0m\u001b[1;33m.\u001b[0m\u001b[0mextend\u001b[0m\u001b[1;33m(\u001b[0m\u001b[0mobject_blocks\u001b[0m\u001b[1;33m)\u001b[0m\u001b[1;33m\u001b[0m\u001b[0m\n",
      "\u001b[1;32md:\\python\\lib\\site-packages\\pandas\\core\\internals.py\u001b[0m in \u001b[0;36m_simple_blockify\u001b[1;34m(tuples, dtype)\u001b[0m\n\u001b[0;32m   4758\u001b[0m     \"\"\"\n\u001b[1;32m-> 4759\u001b[1;33m     \u001b[0mvalues\u001b[0m\u001b[1;33m,\u001b[0m \u001b[0mplacement\u001b[0m \u001b[1;33m=\u001b[0m \u001b[0m_stack_arrays\u001b[0m\u001b[1;33m(\u001b[0m\u001b[0mtuples\u001b[0m\u001b[1;33m,\u001b[0m \u001b[0mdtype\u001b[0m\u001b[1;33m)\u001b[0m\u001b[1;33m\u001b[0m\u001b[0m\n\u001b[0m\u001b[0;32m   4760\u001b[0m \u001b[1;33m\u001b[0m\u001b[0m\n",
      "\u001b[1;32md:\\python\\lib\\site-packages\\pandas\\core\\internals.py\u001b[0m in \u001b[0;36m_stack_arrays\u001b[1;34m(tuples, dtype)\u001b[0m\n\u001b[0;32m   4822\u001b[0m     \u001b[1;32mfor\u001b[0m \u001b[0mi\u001b[0m\u001b[1;33m,\u001b[0m \u001b[0marr\u001b[0m \u001b[1;32min\u001b[0m \u001b[0menumerate\u001b[0m\u001b[1;33m(\u001b[0m\u001b[0marrays\u001b[0m\u001b[1;33m)\u001b[0m\u001b[1;33m:\u001b[0m\u001b[1;33m\u001b[0m\u001b[0m\n\u001b[1;32m-> 4823\u001b[1;33m         \u001b[0mstacked\u001b[0m\u001b[1;33m[\u001b[0m\u001b[0mi\u001b[0m\u001b[1;33m]\u001b[0m \u001b[1;33m=\u001b[0m \u001b[0m_asarray_compat\u001b[0m\u001b[1;33m(\u001b[0m\u001b[0marr\u001b[0m\u001b[1;33m)\u001b[0m\u001b[1;33m\u001b[0m\u001b[0m\n\u001b[0m\u001b[0;32m   4824\u001b[0m \u001b[1;33m\u001b[0m\u001b[0m\n",
      "\u001b[1;31mValueError\u001b[0m: could not broadcast input array from shape (4) into shape (2)",
      "\nDuring handling of the above exception, another exception occurred:\n",
      "\u001b[1;31mValueError\u001b[0m                                Traceback (most recent call last)",
      "\u001b[1;32m<ipython-input-91-978c327dd4df>\u001b[0m in \u001b[0;36m<module>\u001b[1;34m()\u001b[0m\n\u001b[0;32m      1\u001b[0m \u001b[0mprint\u001b[0m\u001b[1;33m(\u001b[0m\u001b[0mdf_posts\u001b[0m\u001b[1;33m)\u001b[0m\u001b[1;33m\u001b[0m\u001b[0m\n\u001b[0;32m      2\u001b[0m \u001b[0mprint\u001b[0m\u001b[1;33m(\u001b[0m\u001b[0mdf_comments\u001b[0m\u001b[1;33m)\u001b[0m\u001b[1;33m\u001b[0m\u001b[0m\n\u001b[1;32m----> 3\u001b[1;33m \u001b[0mdf_comments\u001b[0m \u001b[1;33m=\u001b[0m \u001b[0mexecute_pipeline\u001b[0m\u001b[1;33m(\u001b[0m\u001b[0mdf_comments\u001b[0m\u001b[1;33m)\u001b[0m\u001b[1;33m\u001b[0m\u001b[0m\n\u001b[0m",
      "\u001b[1;32m<ipython-input-89-d129abb13a93>\u001b[0m in \u001b[0;36mexecute_pipeline\u001b[1;34m(dataframe)\u001b[0m\n\u001b[0;32m     62\u001b[0m     \u001b[0mprint\u001b[0m\u001b[1;33m(\u001b[0m\u001b[1;34m\"Entro execute pipeline\"\u001b[0m\u001b[1;33m)\u001b[0m\u001b[1;33m\u001b[0m\u001b[0m\n\u001b[0;32m     63\u001b[0m     \u001b[1;31m#Obtener hashtags\u001b[0m\u001b[1;33m\u001b[0m\u001b[1;33m\u001b[0m\u001b[0m\n\u001b[1;32m---> 64\u001b[1;33m     \u001b[0mdataframe\u001b[0m\u001b[1;33m[\u001b[0m\u001b[1;34m'hashtags'\u001b[0m\u001b[1;33m]\u001b[0m \u001b[1;33m=\u001b[0m \u001b[0mdataframe\u001b[0m\u001b[1;33m.\u001b[0m\u001b[0mapply\u001b[0m\u001b[1;33m(\u001b[0m\u001b[1;32mlambda\u001b[0m \u001b[0mx\u001b[0m\u001b[1;33m:\u001b[0m \u001b[0mget_hashtags\u001b[0m\u001b[1;33m(\u001b[0m\u001b[0mx\u001b[0m\u001b[1;33m[\u001b[0m\u001b[1;34m'message'\u001b[0m\u001b[1;33m]\u001b[0m\u001b[1;33m)\u001b[0m\u001b[1;33m,\u001b[0m \u001b[0maxis\u001b[0m\u001b[1;33m=\u001b[0m\u001b[1;36m1\u001b[0m\u001b[1;33m,\u001b[0m \u001b[0mraw\u001b[0m\u001b[1;33m=\u001b[0m\u001b[1;32mTrue\u001b[0m\u001b[1;33m,\u001b[0m \u001b[0mreduce\u001b[0m\u001b[1;33m=\u001b[0m\u001b[1;32mTrue\u001b[0m\u001b[1;33m)\u001b[0m\u001b[1;33m\u001b[0m\u001b[0m\n\u001b[0m\u001b[0;32m     65\u001b[0m     \u001b[0mprint\u001b[0m\u001b[1;33m(\u001b[0m\u001b[1;34m\"Paso 1\"\u001b[0m\u001b[1;33m)\u001b[0m\u001b[1;33m\u001b[0m\u001b[0m\n\u001b[0;32m     66\u001b[0m     \u001b[1;31m#\u001b[0m\u001b[1;33m\u001b[0m\u001b[1;33m\u001b[0m\u001b[0m\n",
      "\u001b[1;32md:\\python\\lib\\site-packages\\pandas\\core\\frame.py\u001b[0m in \u001b[0;36mapply\u001b[1;34m(self, func, axis, broadcast, raw, reduce, args, **kwds)\u001b[0m\n\u001b[0;32m   4875\u001b[0m                         \u001b[0mf\u001b[0m\u001b[1;33m,\u001b[0m \u001b[0maxis\u001b[0m\u001b[1;33m,\u001b[0m\u001b[1;33m\u001b[0m\u001b[0m\n\u001b[0;32m   4876\u001b[0m                         \u001b[0mreduce\u001b[0m\u001b[1;33m=\u001b[0m\u001b[0mreduce\u001b[0m\u001b[1;33m,\u001b[0m\u001b[1;33m\u001b[0m\u001b[0m\n\u001b[1;32m-> 4877\u001b[1;33m                         ignore_failures=ignore_failures)\n\u001b[0m\u001b[0;32m   4878\u001b[0m             \u001b[1;32melse\u001b[0m\u001b[1;33m:\u001b[0m\u001b[1;33m\u001b[0m\u001b[0m\n\u001b[0;32m   4879\u001b[0m                 \u001b[1;32mreturn\u001b[0m \u001b[0mself\u001b[0m\u001b[1;33m.\u001b[0m\u001b[0m_apply_broadcast\u001b[0m\u001b[1;33m(\u001b[0m\u001b[0mf\u001b[0m\u001b[1;33m,\u001b[0m \u001b[0maxis\u001b[0m\u001b[1;33m)\u001b[0m\u001b[1;33m\u001b[0m\u001b[0m\n",
      "\u001b[1;32md:\\python\\lib\\site-packages\\pandas\\core\\frame.py\u001b[0m in \u001b[0;36m_apply_standard\u001b[1;34m(self, func, axis, ignore_failures, reduce)\u001b[0m\n\u001b[0;32m   4988\u001b[0m                 \u001b[0mindex\u001b[0m \u001b[1;33m=\u001b[0m \u001b[1;32mNone\u001b[0m\u001b[1;33m\u001b[0m\u001b[0m\n\u001b[0;32m   4989\u001b[0m \u001b[1;33m\u001b[0m\u001b[0m\n\u001b[1;32m-> 4990\u001b[1;33m             \u001b[0mresult\u001b[0m \u001b[1;33m=\u001b[0m \u001b[0mself\u001b[0m\u001b[1;33m.\u001b[0m\u001b[0m_constructor\u001b[0m\u001b[1;33m(\u001b[0m\u001b[0mdata\u001b[0m\u001b[1;33m=\u001b[0m\u001b[0mresults\u001b[0m\u001b[1;33m,\u001b[0m \u001b[0mindex\u001b[0m\u001b[1;33m=\u001b[0m\u001b[0mindex\u001b[0m\u001b[1;33m)\u001b[0m\u001b[1;33m\u001b[0m\u001b[0m\n\u001b[0m\u001b[0;32m   4991\u001b[0m             \u001b[0mresult\u001b[0m\u001b[1;33m.\u001b[0m\u001b[0mcolumns\u001b[0m \u001b[1;33m=\u001b[0m \u001b[0mres_index\u001b[0m\u001b[1;33m\u001b[0m\u001b[0m\n\u001b[0;32m   4992\u001b[0m \u001b[1;33m\u001b[0m\u001b[0m\n",
      "\u001b[1;32md:\\python\\lib\\site-packages\\pandas\\core\\frame.py\u001b[0m in \u001b[0;36m__init__\u001b[1;34m(self, data, index, columns, dtype, copy)\u001b[0m\n\u001b[0;32m    328\u001b[0m                                  dtype=dtype, copy=copy)\n\u001b[0;32m    329\u001b[0m         \u001b[1;32melif\u001b[0m \u001b[0misinstance\u001b[0m\u001b[1;33m(\u001b[0m\u001b[0mdata\u001b[0m\u001b[1;33m,\u001b[0m \u001b[0mdict\u001b[0m\u001b[1;33m)\u001b[0m\u001b[1;33m:\u001b[0m\u001b[1;33m\u001b[0m\u001b[0m\n\u001b[1;32m--> 330\u001b[1;33m             \u001b[0mmgr\u001b[0m \u001b[1;33m=\u001b[0m \u001b[0mself\u001b[0m\u001b[1;33m.\u001b[0m\u001b[0m_init_dict\u001b[0m\u001b[1;33m(\u001b[0m\u001b[0mdata\u001b[0m\u001b[1;33m,\u001b[0m \u001b[0mindex\u001b[0m\u001b[1;33m,\u001b[0m \u001b[0mcolumns\u001b[0m\u001b[1;33m,\u001b[0m \u001b[0mdtype\u001b[0m\u001b[1;33m=\u001b[0m\u001b[0mdtype\u001b[0m\u001b[1;33m)\u001b[0m\u001b[1;33m\u001b[0m\u001b[0m\n\u001b[0m\u001b[0;32m    331\u001b[0m         \u001b[1;32melif\u001b[0m \u001b[0misinstance\u001b[0m\u001b[1;33m(\u001b[0m\u001b[0mdata\u001b[0m\u001b[1;33m,\u001b[0m \u001b[0mma\u001b[0m\u001b[1;33m.\u001b[0m\u001b[0mMaskedArray\u001b[0m\u001b[1;33m)\u001b[0m\u001b[1;33m:\u001b[0m\u001b[1;33m\u001b[0m\u001b[0m\n\u001b[0;32m    332\u001b[0m             \u001b[1;32mimport\u001b[0m \u001b[0mnumpy\u001b[0m\u001b[1;33m.\u001b[0m\u001b[0mma\u001b[0m\u001b[1;33m.\u001b[0m\u001b[0mmrecords\u001b[0m \u001b[1;32mas\u001b[0m \u001b[0mmrecords\u001b[0m\u001b[1;33m\u001b[0m\u001b[0m\n",
      "\u001b[1;32md:\\python\\lib\\site-packages\\pandas\\core\\frame.py\u001b[0m in \u001b[0;36m_init_dict\u001b[1;34m(self, data, index, columns, dtype)\u001b[0m\n\u001b[0;32m    459\u001b[0m             \u001b[0marrays\u001b[0m \u001b[1;33m=\u001b[0m \u001b[1;33m[\u001b[0m\u001b[0mdata\u001b[0m\u001b[1;33m[\u001b[0m\u001b[0mk\u001b[0m\u001b[1;33m]\u001b[0m \u001b[1;32mfor\u001b[0m \u001b[0mk\u001b[0m \u001b[1;32min\u001b[0m \u001b[0mkeys\u001b[0m\u001b[1;33m]\u001b[0m\u001b[1;33m\u001b[0m\u001b[0m\n\u001b[0;32m    460\u001b[0m \u001b[1;33m\u001b[0m\u001b[0m\n\u001b[1;32m--> 461\u001b[1;33m         \u001b[1;32mreturn\u001b[0m \u001b[0m_arrays_to_mgr\u001b[0m\u001b[1;33m(\u001b[0m\u001b[0marrays\u001b[0m\u001b[1;33m,\u001b[0m \u001b[0mdata_names\u001b[0m\u001b[1;33m,\u001b[0m \u001b[0mindex\u001b[0m\u001b[1;33m,\u001b[0m \u001b[0mcolumns\u001b[0m\u001b[1;33m,\u001b[0m \u001b[0mdtype\u001b[0m\u001b[1;33m=\u001b[0m\u001b[0mdtype\u001b[0m\u001b[1;33m)\u001b[0m\u001b[1;33m\u001b[0m\u001b[0m\n\u001b[0m\u001b[0;32m    462\u001b[0m \u001b[1;33m\u001b[0m\u001b[0m\n\u001b[0;32m    463\u001b[0m     \u001b[1;32mdef\u001b[0m \u001b[0m_init_ndarray\u001b[0m\u001b[1;33m(\u001b[0m\u001b[0mself\u001b[0m\u001b[1;33m,\u001b[0m \u001b[0mvalues\u001b[0m\u001b[1;33m,\u001b[0m \u001b[0mindex\u001b[0m\u001b[1;33m,\u001b[0m \u001b[0mcolumns\u001b[0m\u001b[1;33m,\u001b[0m \u001b[0mdtype\u001b[0m\u001b[1;33m=\u001b[0m\u001b[1;32mNone\u001b[0m\u001b[1;33m,\u001b[0m \u001b[0mcopy\u001b[0m\u001b[1;33m=\u001b[0m\u001b[1;32mFalse\u001b[0m\u001b[1;33m)\u001b[0m\u001b[1;33m:\u001b[0m\u001b[1;33m\u001b[0m\u001b[0m\n",
      "\u001b[1;32md:\\python\\lib\\site-packages\\pandas\\core\\frame.py\u001b[0m in \u001b[0;36m_arrays_to_mgr\u001b[1;34m(arrays, arr_names, index, columns, dtype)\u001b[0m\n\u001b[0;32m   6171\u001b[0m     \u001b[0maxes\u001b[0m \u001b[1;33m=\u001b[0m \u001b[1;33m[\u001b[0m\u001b[0m_ensure_index\u001b[0m\u001b[1;33m(\u001b[0m\u001b[0mcolumns\u001b[0m\u001b[1;33m)\u001b[0m\u001b[1;33m,\u001b[0m \u001b[0m_ensure_index\u001b[0m\u001b[1;33m(\u001b[0m\u001b[0mindex\u001b[0m\u001b[1;33m)\u001b[0m\u001b[1;33m]\u001b[0m\u001b[1;33m\u001b[0m\u001b[0m\n\u001b[0;32m   6172\u001b[0m \u001b[1;33m\u001b[0m\u001b[0m\n\u001b[1;32m-> 6173\u001b[1;33m     \u001b[1;32mreturn\u001b[0m \u001b[0mcreate_block_manager_from_arrays\u001b[0m\u001b[1;33m(\u001b[0m\u001b[0marrays\u001b[0m\u001b[1;33m,\u001b[0m \u001b[0marr_names\u001b[0m\u001b[1;33m,\u001b[0m \u001b[0maxes\u001b[0m\u001b[1;33m)\u001b[0m\u001b[1;33m\u001b[0m\u001b[0m\n\u001b[0m\u001b[0;32m   6174\u001b[0m \u001b[1;33m\u001b[0m\u001b[0m\n\u001b[0;32m   6175\u001b[0m \u001b[1;33m\u001b[0m\u001b[0m\n",
      "\u001b[1;32md:\\python\\lib\\site-packages\\pandas\\core\\internals.py\u001b[0m in \u001b[0;36mcreate_block_manager_from_arrays\u001b[1;34m(arrays, names, axes)\u001b[0m\n\u001b[0;32m   4640\u001b[0m         \u001b[1;32mreturn\u001b[0m \u001b[0mmgr\u001b[0m\u001b[1;33m\u001b[0m\u001b[0m\n\u001b[0;32m   4641\u001b[0m     \u001b[1;32mexcept\u001b[0m \u001b[0mValueError\u001b[0m \u001b[1;32mas\u001b[0m \u001b[0me\u001b[0m\u001b[1;33m:\u001b[0m\u001b[1;33m\u001b[0m\u001b[0m\n\u001b[1;32m-> 4642\u001b[1;33m         \u001b[0mconstruction_error\u001b[0m\u001b[1;33m(\u001b[0m\u001b[0mlen\u001b[0m\u001b[1;33m(\u001b[0m\u001b[0marrays\u001b[0m\u001b[1;33m)\u001b[0m\u001b[1;33m,\u001b[0m \u001b[0marrays\u001b[0m\u001b[1;33m[\u001b[0m\u001b[1;36m0\u001b[0m\u001b[1;33m]\u001b[0m\u001b[1;33m.\u001b[0m\u001b[0mshape\u001b[0m\u001b[1;33m,\u001b[0m \u001b[0maxes\u001b[0m\u001b[1;33m,\u001b[0m \u001b[0me\u001b[0m\u001b[1;33m)\u001b[0m\u001b[1;33m\u001b[0m\u001b[0m\n\u001b[0m\u001b[0;32m   4643\u001b[0m \u001b[1;33m\u001b[0m\u001b[0m\n\u001b[0;32m   4644\u001b[0m \u001b[1;33m\u001b[0m\u001b[0m\n",
      "\u001b[1;32md:\\python\\lib\\site-packages\\pandas\\core\\internals.py\u001b[0m in \u001b[0;36mconstruction_error\u001b[1;34m(tot_items, block_shape, axes, e)\u001b[0m\n\u001b[0;32m   4606\u001b[0m         \u001b[1;32mraise\u001b[0m \u001b[0mValueError\u001b[0m\u001b[1;33m(\u001b[0m\u001b[1;34m\"Empty data passed with indices specified.\"\u001b[0m\u001b[1;33m)\u001b[0m\u001b[1;33m\u001b[0m\u001b[0m\n\u001b[0;32m   4607\u001b[0m     raise ValueError(\"Shape of passed values is {0}, indices imply {1}\".format(\n\u001b[1;32m-> 4608\u001b[1;33m         passed, implied))\n\u001b[0m\u001b[0;32m   4609\u001b[0m \u001b[1;33m\u001b[0m\u001b[0m\n\u001b[0;32m   4610\u001b[0m \u001b[1;33m\u001b[0m\u001b[0m\n",
      "\u001b[1;31mValueError\u001b[0m: Shape of passed values is (12, 2), indices imply (12, 4)"
     ]
    }
   ],
   "source": [
    "print(df_posts)\n",
    "print(df_comments)\n",
    "df_comments = execute_pipeline(df_comments)"
   ]
  },
  {
   "cell_type": "code",
   "execution_count": 92,
   "metadata": {},
   "outputs": [],
   "source": [
    "#Content analysis\n",
    " \n",
    "def viz_wordcloud(dataframe, column_name):\n",
    "    print(dataframe[column_name])\n",
    "    lst_tokens = list(itertools.chain.from_iterable(dataframe[column_name]))\n",
    "    lst_phrases = [phrase.replace(\" \", \"_\") for phrase in lst_tokens]\n",
    "\n",
    "    CLEANING_LIST = ['el', 'la', 'lo', 'que', 'con', 'del', 'lo','como','una', 'al','su','un','en' ] # Lista con palabras que consideraremos como ruido\n",
    "    lst_phrases = [phrase for phrase in lst_phrases if not any(spam in phrase.lower() for spam in CLEANING_LIST)] # Quitamos los keywords considerados como ruido\n",
    "    lst_phrases = [phrase.replace(\" \",\"_\") for phrase in lst_phrases if len(phrase) > 1] # Eliminamos los tokens que son de una sola letra\n",
    "    wordcloud = WordCloud(font_path='./Fonts/Verdana.ttf', background_color=\"White\", max_words=2000, max_font_size=40, random_state=42).generate(\" \".join(lst_phrases))\n",
    "\n",
    "    plt.figure()\n",
    "    plt.imshow(wordcloud)\n",
    "    plt.axis(\"off\")\n",
    "    plt.show\n",
    "    \n",
    "def print_verbatims(df, nb_verbatim, keywords):\n",
    "    verbatims = df[df['message'].str.contains(keywords)]\n",
    "    for i, text in verbatims.head(nb_verbatim).iterrows():\n",
    "        print(text['message'])"
   ]
  },
  {
   "cell_type": "code",
   "execution_count": 50,
   "metadata": {},
   "outputs": [
    {
     "name": "stdout",
     "output_type": "stream",
     "text": [
      "0     ([recorre, la, cueva, del, el, tubo, volcánico...\n",
      "1       ([piérdete, tenerife, sc, laurisilva, bosque],)\n",
      "2     ([disfruta, playas, paradisíacas, cristianos, ...\n",
      "3     ([observa, el, vasto, campo, desde, montaña, g...\n",
      "4     ([lánzate, al, mar, y, navega, por, sus, costa...\n",
      "5     ([garachico, la, joya, tenerife, venalparaiso,...\n",
      "6     ([visita, el, pueblo, con, la, basílica, como,...\n",
      "7     ([pasea, por, historia, ciudades, más, cultura...\n",
      "8     ([santa, cruz, y, diversión, sc, tenerife, ven...\n",
      "9     ([al, puerto, ciudad, costera, con, playas, co...\n",
      "10    ([quieres, descubrir, qué, hay, más, allá, nub...\n",
      "Name: keywords, dtype: object\n"
     ]
    },
    {
     "ename": "NameError",
     "evalue": "name 'phrase' is not defined",
     "output_type": "error",
     "traceback": [
      "\u001b[1;31m---------------------------------------------------------------------------\u001b[0m",
      "\u001b[1;31mNameError\u001b[0m                                 Traceback (most recent call last)",
      "\u001b[1;32m<ipython-input-50-45132902da3d>\u001b[0m in \u001b[0;36m<module>\u001b[1;34m()\u001b[0m\n\u001b[1;32m----> 1\u001b[1;33m \u001b[0mviz_wordcloud\u001b[0m\u001b[1;33m(\u001b[0m\u001b[0mdf_posts\u001b[0m\u001b[1;33m,\u001b[0m \u001b[1;34m'keywords'\u001b[0m\u001b[1;33m)\u001b[0m\u001b[1;33m\u001b[0m\u001b[0m\n\u001b[0m\u001b[0;32m      2\u001b[0m \u001b[0mviz_wordcloud\u001b[0m\u001b[1;33m(\u001b[0m\u001b[0mdf_comments\u001b[0m\u001b[1;33m,\u001b[0m \u001b[1;34m'keywords'\u001b[0m\u001b[1;33m)\u001b[0m\u001b[1;33m\u001b[0m\u001b[0m\n",
      "\u001b[1;32m<ipython-input-49-a5e6eae777f7>\u001b[0m in \u001b[0;36mviz_wordcloud\u001b[1;34m(dataframe, column_name)\u001b[0m\n\u001b[0;32m      4\u001b[0m     \u001b[0mprint\u001b[0m\u001b[1;33m(\u001b[0m\u001b[0mdataframe\u001b[0m\u001b[1;33m[\u001b[0m\u001b[0mcolumn_name\u001b[0m\u001b[1;33m]\u001b[0m\u001b[1;33m)\u001b[0m\u001b[1;33m\u001b[0m\u001b[0m\n\u001b[0;32m      5\u001b[0m     \u001b[0mlst_tokens\u001b[0m \u001b[1;33m=\u001b[0m \u001b[0mlist\u001b[0m\u001b[1;33m(\u001b[0m\u001b[0mitertools\u001b[0m\u001b[1;33m.\u001b[0m\u001b[0mchain\u001b[0m\u001b[1;33m.\u001b[0m\u001b[0mfrom_iterable\u001b[0m\u001b[1;33m(\u001b[0m\u001b[0mdataframe\u001b[0m\u001b[1;33m[\u001b[0m\u001b[0mcolumn_name\u001b[0m\u001b[1;33m]\u001b[0m\u001b[1;33m)\u001b[0m\u001b[1;33m)\u001b[0m\u001b[1;33m\u001b[0m\u001b[0m\n\u001b[1;32m----> 6\u001b[1;33m     \u001b[0mlst_phrases\u001b[0m \u001b[1;33m=\u001b[0m \u001b[1;33m[\u001b[0m\u001b[0mphrase\u001b[0m\u001b[1;33m[\u001b[0m\u001b[1;36m0\u001b[0m\u001b[1;33m]\u001b[0m\u001b[1;33m.\u001b[0m\u001b[0mreplace\u001b[0m\u001b[1;33m(\u001b[0m\u001b[1;34m\" \"\u001b[0m\u001b[1;33m,\u001b[0m \u001b[1;34m\"_\"\u001b[0m\u001b[1;33m)\u001b[0m \u001b[1;32mfor\u001b[0m \u001b[0mphrase\u001b[0m\u001b[1;33m[\u001b[0m\u001b[1;36m0\u001b[0m\u001b[1;33m]\u001b[0m \u001b[1;32min\u001b[0m \u001b[0mlst_tokens\u001b[0m\u001b[1;33m]\u001b[0m\u001b[1;33m\u001b[0m\u001b[0m\n\u001b[0m\u001b[0;32m      7\u001b[0m \u001b[1;33m\u001b[0m\u001b[0m\n\u001b[0;32m      8\u001b[0m     \u001b[0mCLEANING_LIST\u001b[0m \u001b[1;33m=\u001b[0m \u001b[1;33m[\u001b[0m\u001b[1;34m'el'\u001b[0m\u001b[1;33m,\u001b[0m \u001b[1;34m'la'\u001b[0m\u001b[1;33m,\u001b[0m \u001b[1;34m'lo'\u001b[0m\u001b[1;33m,\u001b[0m \u001b[1;34m'que'\u001b[0m\u001b[1;33m,\u001b[0m \u001b[1;34m'con'\u001b[0m\u001b[1;33m,\u001b[0m \u001b[1;34m'del'\u001b[0m\u001b[1;33m,\u001b[0m \u001b[1;34m'lo'\u001b[0m\u001b[1;33m,\u001b[0m\u001b[1;34m'como'\u001b[0m\u001b[1;33m,\u001b[0m\u001b[1;34m'una'\u001b[0m\u001b[1;33m,\u001b[0m \u001b[1;34m'al'\u001b[0m\u001b[1;33m,\u001b[0m\u001b[1;34m'su'\u001b[0m\u001b[1;33m,\u001b[0m\u001b[1;34m'un'\u001b[0m\u001b[1;33m,\u001b[0m\u001b[1;34m'en'\u001b[0m \u001b[1;33m]\u001b[0m \u001b[1;31m# Lista con palabras que consideraremos como ruido\u001b[0m\u001b[1;33m\u001b[0m\u001b[0m\n",
      "\u001b[1;32m<ipython-input-49-a5e6eae777f7>\u001b[0m in \u001b[0;36m<listcomp>\u001b[1;34m(.0)\u001b[0m\n\u001b[0;32m      4\u001b[0m     \u001b[0mprint\u001b[0m\u001b[1;33m(\u001b[0m\u001b[0mdataframe\u001b[0m\u001b[1;33m[\u001b[0m\u001b[0mcolumn_name\u001b[0m\u001b[1;33m]\u001b[0m\u001b[1;33m)\u001b[0m\u001b[1;33m\u001b[0m\u001b[0m\n\u001b[0;32m      5\u001b[0m     \u001b[0mlst_tokens\u001b[0m \u001b[1;33m=\u001b[0m \u001b[0mlist\u001b[0m\u001b[1;33m(\u001b[0m\u001b[0mitertools\u001b[0m\u001b[1;33m.\u001b[0m\u001b[0mchain\u001b[0m\u001b[1;33m.\u001b[0m\u001b[0mfrom_iterable\u001b[0m\u001b[1;33m(\u001b[0m\u001b[0mdataframe\u001b[0m\u001b[1;33m[\u001b[0m\u001b[0mcolumn_name\u001b[0m\u001b[1;33m]\u001b[0m\u001b[1;33m)\u001b[0m\u001b[1;33m)\u001b[0m\u001b[1;33m\u001b[0m\u001b[0m\n\u001b[1;32m----> 6\u001b[1;33m     \u001b[0mlst_phrases\u001b[0m \u001b[1;33m=\u001b[0m \u001b[1;33m[\u001b[0m\u001b[0mphrase\u001b[0m\u001b[1;33m[\u001b[0m\u001b[1;36m0\u001b[0m\u001b[1;33m]\u001b[0m\u001b[1;33m.\u001b[0m\u001b[0mreplace\u001b[0m\u001b[1;33m(\u001b[0m\u001b[1;34m\" \"\u001b[0m\u001b[1;33m,\u001b[0m \u001b[1;34m\"_\"\u001b[0m\u001b[1;33m)\u001b[0m \u001b[1;32mfor\u001b[0m \u001b[0mphrase\u001b[0m\u001b[1;33m[\u001b[0m\u001b[1;36m0\u001b[0m\u001b[1;33m]\u001b[0m \u001b[1;32min\u001b[0m \u001b[0mlst_tokens\u001b[0m\u001b[1;33m]\u001b[0m\u001b[1;33m\u001b[0m\u001b[0m\n\u001b[0m\u001b[0;32m      7\u001b[0m \u001b[1;33m\u001b[0m\u001b[0m\n\u001b[0;32m      8\u001b[0m     \u001b[0mCLEANING_LIST\u001b[0m \u001b[1;33m=\u001b[0m \u001b[1;33m[\u001b[0m\u001b[1;34m'el'\u001b[0m\u001b[1;33m,\u001b[0m \u001b[1;34m'la'\u001b[0m\u001b[1;33m,\u001b[0m \u001b[1;34m'lo'\u001b[0m\u001b[1;33m,\u001b[0m \u001b[1;34m'que'\u001b[0m\u001b[1;33m,\u001b[0m \u001b[1;34m'con'\u001b[0m\u001b[1;33m,\u001b[0m \u001b[1;34m'del'\u001b[0m\u001b[1;33m,\u001b[0m \u001b[1;34m'lo'\u001b[0m\u001b[1;33m,\u001b[0m\u001b[1;34m'como'\u001b[0m\u001b[1;33m,\u001b[0m\u001b[1;34m'una'\u001b[0m\u001b[1;33m,\u001b[0m \u001b[1;34m'al'\u001b[0m\u001b[1;33m,\u001b[0m\u001b[1;34m'su'\u001b[0m\u001b[1;33m,\u001b[0m\u001b[1;34m'un'\u001b[0m\u001b[1;33m,\u001b[0m\u001b[1;34m'en'\u001b[0m \u001b[1;33m]\u001b[0m \u001b[1;31m# Lista con palabras que consideraremos como ruido\u001b[0m\u001b[1;33m\u001b[0m\u001b[0m\n",
      "\u001b[1;31mNameError\u001b[0m: name 'phrase' is not defined"
     ]
    }
   ],
   "source": [
    "viz_wordcloud(df_posts, 'keywords')\n",
    "viz_wordcloud(df_comments, 'keywords')"
   ]
  },
  {
   "cell_type": "code",
   "execution_count": 15,
   "metadata": {},
   "outputs": [
    {
     "ename": "KeyError",
     "evalue": "'hashtags'",
     "output_type": "error",
     "traceback": [
      "\u001b[1;31m---------------------------------------------------------------------------\u001b[0m",
      "\u001b[1;31mKeyError\u001b[0m                                  Traceback (most recent call last)",
      "\u001b[1;32md:\\python\\lib\\site-packages\\pandas\\core\\indexes\\base.py\u001b[0m in \u001b[0;36mget_loc\u001b[1;34m(self, key, method, tolerance)\u001b[0m\n\u001b[0;32m   2524\u001b[0m             \u001b[1;32mtry\u001b[0m\u001b[1;33m:\u001b[0m\u001b[1;33m\u001b[0m\u001b[0m\n\u001b[1;32m-> 2525\u001b[1;33m                 \u001b[1;32mreturn\u001b[0m \u001b[0mself\u001b[0m\u001b[1;33m.\u001b[0m\u001b[0m_engine\u001b[0m\u001b[1;33m.\u001b[0m\u001b[0mget_loc\u001b[0m\u001b[1;33m(\u001b[0m\u001b[0mkey\u001b[0m\u001b[1;33m)\u001b[0m\u001b[1;33m\u001b[0m\u001b[0m\n\u001b[0m\u001b[0;32m   2526\u001b[0m             \u001b[1;32mexcept\u001b[0m \u001b[0mKeyError\u001b[0m\u001b[1;33m:\u001b[0m\u001b[1;33m\u001b[0m\u001b[0m\n",
      "\u001b[1;32mpandas\\_libs\\index.pyx\u001b[0m in \u001b[0;36mpandas._libs.index.IndexEngine.get_loc\u001b[1;34m()\u001b[0m\n",
      "\u001b[1;32mpandas\\_libs\\index.pyx\u001b[0m in \u001b[0;36mpandas._libs.index.IndexEngine.get_loc\u001b[1;34m()\u001b[0m\n",
      "\u001b[1;32mpandas\\_libs\\hashtable_class_helper.pxi\u001b[0m in \u001b[0;36mpandas._libs.hashtable.PyObjectHashTable.get_item\u001b[1;34m()\u001b[0m\n",
      "\u001b[1;32mpandas\\_libs\\hashtable_class_helper.pxi\u001b[0m in \u001b[0;36mpandas._libs.hashtable.PyObjectHashTable.get_item\u001b[1;34m()\u001b[0m\n",
      "\u001b[1;31mKeyError\u001b[0m: 'hashtags'",
      "\nDuring handling of the above exception, another exception occurred:\n",
      "\u001b[1;31mKeyError\u001b[0m                                  Traceback (most recent call last)",
      "\u001b[1;32m<ipython-input-15-d9bee68e84a3>\u001b[0m in \u001b[0;36m<module>\u001b[1;34m()\u001b[0m\n\u001b[1;32m----> 1\u001b[1;33m \u001b[0mviz_wordcloud\u001b[0m\u001b[1;33m(\u001b[0m\u001b[0mdf_posts\u001b[0m\u001b[1;33m,\u001b[0m \u001b[1;34m'hashtags'\u001b[0m\u001b[1;33m)\u001b[0m\u001b[1;33m\u001b[0m\u001b[0m\n\u001b[0m\u001b[0;32m      2\u001b[0m \u001b[0mviz_wordcloud\u001b[0m\u001b[1;33m(\u001b[0m\u001b[0mdf_comments\u001b[0m\u001b[1;33m,\u001b[0m \u001b[1;34m'hashtags'\u001b[0m\u001b[1;33m)\u001b[0m\u001b[1;33m\u001b[0m\u001b[0m\n",
      "\u001b[1;32m<ipython-input-13-4a7a9f5c3d65>\u001b[0m in \u001b[0;36mviz_wordcloud\u001b[1;34m(dataframe, column_name)\u001b[0m\n\u001b[0;32m      2\u001b[0m \u001b[1;33m\u001b[0m\u001b[0m\n\u001b[0;32m      3\u001b[0m \u001b[1;32mdef\u001b[0m \u001b[0mviz_wordcloud\u001b[0m\u001b[1;33m(\u001b[0m\u001b[0mdataframe\u001b[0m\u001b[1;33m,\u001b[0m \u001b[0mcolumn_name\u001b[0m\u001b[1;33m)\u001b[0m\u001b[1;33m:\u001b[0m\u001b[1;33m\u001b[0m\u001b[0m\n\u001b[1;32m----> 4\u001b[1;33m     \u001b[0mlst_tokens\u001b[0m \u001b[1;33m=\u001b[0m \u001b[0mlist\u001b[0m\u001b[1;33m(\u001b[0m\u001b[0mitertools\u001b[0m\u001b[1;33m.\u001b[0m\u001b[0mchain\u001b[0m\u001b[1;33m.\u001b[0m\u001b[0mfrom_iterable\u001b[0m\u001b[1;33m(\u001b[0m\u001b[0mdataframe\u001b[0m\u001b[1;33m[\u001b[0m\u001b[0mcolumn_name\u001b[0m\u001b[1;33m]\u001b[0m\u001b[1;33m)\u001b[0m\u001b[1;33m)\u001b[0m\u001b[1;33m\u001b[0m\u001b[0m\n\u001b[0m\u001b[0;32m      5\u001b[0m     \u001b[0mlst_phrases\u001b[0m \u001b[1;33m=\u001b[0m \u001b[1;33m[\u001b[0m\u001b[0mphrase\u001b[0m\u001b[1;33m.\u001b[0m\u001b[0mreplace\u001b[0m\u001b[1;33m(\u001b[0m\u001b[1;34m\" \"\u001b[0m\u001b[1;33m,\u001b[0m \u001b[1;34m\"_\"\u001b[0m\u001b[1;33m)\u001b[0m \u001b[1;32mfor\u001b[0m \u001b[0mphrase\u001b[0m \u001b[1;32min\u001b[0m \u001b[0mlst_tokens\u001b[0m\u001b[1;33m]\u001b[0m\u001b[1;33m\u001b[0m\u001b[0m\n\u001b[0;32m      6\u001b[0m \u001b[1;33m\u001b[0m\u001b[0m\n",
      "\u001b[1;32md:\\python\\lib\\site-packages\\pandas\\core\\frame.py\u001b[0m in \u001b[0;36m__getitem__\u001b[1;34m(self, key)\u001b[0m\n\u001b[0;32m   2137\u001b[0m             \u001b[1;32mreturn\u001b[0m \u001b[0mself\u001b[0m\u001b[1;33m.\u001b[0m\u001b[0m_getitem_multilevel\u001b[0m\u001b[1;33m(\u001b[0m\u001b[0mkey\u001b[0m\u001b[1;33m)\u001b[0m\u001b[1;33m\u001b[0m\u001b[0m\n\u001b[0;32m   2138\u001b[0m         \u001b[1;32melse\u001b[0m\u001b[1;33m:\u001b[0m\u001b[1;33m\u001b[0m\u001b[0m\n\u001b[1;32m-> 2139\u001b[1;33m             \u001b[1;32mreturn\u001b[0m \u001b[0mself\u001b[0m\u001b[1;33m.\u001b[0m\u001b[0m_getitem_column\u001b[0m\u001b[1;33m(\u001b[0m\u001b[0mkey\u001b[0m\u001b[1;33m)\u001b[0m\u001b[1;33m\u001b[0m\u001b[0m\n\u001b[0m\u001b[0;32m   2140\u001b[0m \u001b[1;33m\u001b[0m\u001b[0m\n\u001b[0;32m   2141\u001b[0m     \u001b[1;32mdef\u001b[0m \u001b[0m_getitem_column\u001b[0m\u001b[1;33m(\u001b[0m\u001b[0mself\u001b[0m\u001b[1;33m,\u001b[0m \u001b[0mkey\u001b[0m\u001b[1;33m)\u001b[0m\u001b[1;33m:\u001b[0m\u001b[1;33m\u001b[0m\u001b[0m\n",
      "\u001b[1;32md:\\python\\lib\\site-packages\\pandas\\core\\frame.py\u001b[0m in \u001b[0;36m_getitem_column\u001b[1;34m(self, key)\u001b[0m\n\u001b[0;32m   2144\u001b[0m         \u001b[1;31m# get column\u001b[0m\u001b[1;33m\u001b[0m\u001b[1;33m\u001b[0m\u001b[0m\n\u001b[0;32m   2145\u001b[0m         \u001b[1;32mif\u001b[0m \u001b[0mself\u001b[0m\u001b[1;33m.\u001b[0m\u001b[0mcolumns\u001b[0m\u001b[1;33m.\u001b[0m\u001b[0mis_unique\u001b[0m\u001b[1;33m:\u001b[0m\u001b[1;33m\u001b[0m\u001b[0m\n\u001b[1;32m-> 2146\u001b[1;33m             \u001b[1;32mreturn\u001b[0m \u001b[0mself\u001b[0m\u001b[1;33m.\u001b[0m\u001b[0m_get_item_cache\u001b[0m\u001b[1;33m(\u001b[0m\u001b[0mkey\u001b[0m\u001b[1;33m)\u001b[0m\u001b[1;33m\u001b[0m\u001b[0m\n\u001b[0m\u001b[0;32m   2147\u001b[0m \u001b[1;33m\u001b[0m\u001b[0m\n\u001b[0;32m   2148\u001b[0m         \u001b[1;31m# duplicate columns & possible reduce dimensionality\u001b[0m\u001b[1;33m\u001b[0m\u001b[1;33m\u001b[0m\u001b[0m\n",
      "\u001b[1;32md:\\python\\lib\\site-packages\\pandas\\core\\generic.py\u001b[0m in \u001b[0;36m_get_item_cache\u001b[1;34m(self, item)\u001b[0m\n\u001b[0;32m   1840\u001b[0m         \u001b[0mres\u001b[0m \u001b[1;33m=\u001b[0m \u001b[0mcache\u001b[0m\u001b[1;33m.\u001b[0m\u001b[0mget\u001b[0m\u001b[1;33m(\u001b[0m\u001b[0mitem\u001b[0m\u001b[1;33m)\u001b[0m\u001b[1;33m\u001b[0m\u001b[0m\n\u001b[0;32m   1841\u001b[0m         \u001b[1;32mif\u001b[0m \u001b[0mres\u001b[0m \u001b[1;32mis\u001b[0m \u001b[1;32mNone\u001b[0m\u001b[1;33m:\u001b[0m\u001b[1;33m\u001b[0m\u001b[0m\n\u001b[1;32m-> 1842\u001b[1;33m             \u001b[0mvalues\u001b[0m \u001b[1;33m=\u001b[0m \u001b[0mself\u001b[0m\u001b[1;33m.\u001b[0m\u001b[0m_data\u001b[0m\u001b[1;33m.\u001b[0m\u001b[0mget\u001b[0m\u001b[1;33m(\u001b[0m\u001b[0mitem\u001b[0m\u001b[1;33m)\u001b[0m\u001b[1;33m\u001b[0m\u001b[0m\n\u001b[0m\u001b[0;32m   1843\u001b[0m             \u001b[0mres\u001b[0m \u001b[1;33m=\u001b[0m \u001b[0mself\u001b[0m\u001b[1;33m.\u001b[0m\u001b[0m_box_item_values\u001b[0m\u001b[1;33m(\u001b[0m\u001b[0mitem\u001b[0m\u001b[1;33m,\u001b[0m \u001b[0mvalues\u001b[0m\u001b[1;33m)\u001b[0m\u001b[1;33m\u001b[0m\u001b[0m\n\u001b[0;32m   1844\u001b[0m             \u001b[0mcache\u001b[0m\u001b[1;33m[\u001b[0m\u001b[0mitem\u001b[0m\u001b[1;33m]\u001b[0m \u001b[1;33m=\u001b[0m \u001b[0mres\u001b[0m\u001b[1;33m\u001b[0m\u001b[0m\n",
      "\u001b[1;32md:\\python\\lib\\site-packages\\pandas\\core\\internals.py\u001b[0m in \u001b[0;36mget\u001b[1;34m(self, item, fastpath)\u001b[0m\n\u001b[0;32m   3841\u001b[0m \u001b[1;33m\u001b[0m\u001b[0m\n\u001b[0;32m   3842\u001b[0m             \u001b[1;32mif\u001b[0m \u001b[1;32mnot\u001b[0m \u001b[0misna\u001b[0m\u001b[1;33m(\u001b[0m\u001b[0mitem\u001b[0m\u001b[1;33m)\u001b[0m\u001b[1;33m:\u001b[0m\u001b[1;33m\u001b[0m\u001b[0m\n\u001b[1;32m-> 3843\u001b[1;33m                 \u001b[0mloc\u001b[0m \u001b[1;33m=\u001b[0m \u001b[0mself\u001b[0m\u001b[1;33m.\u001b[0m\u001b[0mitems\u001b[0m\u001b[1;33m.\u001b[0m\u001b[0mget_loc\u001b[0m\u001b[1;33m(\u001b[0m\u001b[0mitem\u001b[0m\u001b[1;33m)\u001b[0m\u001b[1;33m\u001b[0m\u001b[0m\n\u001b[0m\u001b[0;32m   3844\u001b[0m             \u001b[1;32melse\u001b[0m\u001b[1;33m:\u001b[0m\u001b[1;33m\u001b[0m\u001b[0m\n\u001b[0;32m   3845\u001b[0m                 \u001b[0mindexer\u001b[0m \u001b[1;33m=\u001b[0m \u001b[0mnp\u001b[0m\u001b[1;33m.\u001b[0m\u001b[0marange\u001b[0m\u001b[1;33m(\u001b[0m\u001b[0mlen\u001b[0m\u001b[1;33m(\u001b[0m\u001b[0mself\u001b[0m\u001b[1;33m.\u001b[0m\u001b[0mitems\u001b[0m\u001b[1;33m)\u001b[0m\u001b[1;33m)\u001b[0m\u001b[1;33m[\u001b[0m\u001b[0misna\u001b[0m\u001b[1;33m(\u001b[0m\u001b[0mself\u001b[0m\u001b[1;33m.\u001b[0m\u001b[0mitems\u001b[0m\u001b[1;33m)\u001b[0m\u001b[1;33m]\u001b[0m\u001b[1;33m\u001b[0m\u001b[0m\n",
      "\u001b[1;32md:\\python\\lib\\site-packages\\pandas\\core\\indexes\\base.py\u001b[0m in \u001b[0;36mget_loc\u001b[1;34m(self, key, method, tolerance)\u001b[0m\n\u001b[0;32m   2525\u001b[0m                 \u001b[1;32mreturn\u001b[0m \u001b[0mself\u001b[0m\u001b[1;33m.\u001b[0m\u001b[0m_engine\u001b[0m\u001b[1;33m.\u001b[0m\u001b[0mget_loc\u001b[0m\u001b[1;33m(\u001b[0m\u001b[0mkey\u001b[0m\u001b[1;33m)\u001b[0m\u001b[1;33m\u001b[0m\u001b[0m\n\u001b[0;32m   2526\u001b[0m             \u001b[1;32mexcept\u001b[0m \u001b[0mKeyError\u001b[0m\u001b[1;33m:\u001b[0m\u001b[1;33m\u001b[0m\u001b[0m\n\u001b[1;32m-> 2527\u001b[1;33m                 \u001b[1;32mreturn\u001b[0m \u001b[0mself\u001b[0m\u001b[1;33m.\u001b[0m\u001b[0m_engine\u001b[0m\u001b[1;33m.\u001b[0m\u001b[0mget_loc\u001b[0m\u001b[1;33m(\u001b[0m\u001b[0mself\u001b[0m\u001b[1;33m.\u001b[0m\u001b[0m_maybe_cast_indexer\u001b[0m\u001b[1;33m(\u001b[0m\u001b[0mkey\u001b[0m\u001b[1;33m)\u001b[0m\u001b[1;33m)\u001b[0m\u001b[1;33m\u001b[0m\u001b[0m\n\u001b[0m\u001b[0;32m   2528\u001b[0m \u001b[1;33m\u001b[0m\u001b[0m\n\u001b[0;32m   2529\u001b[0m         \u001b[0mindexer\u001b[0m \u001b[1;33m=\u001b[0m \u001b[0mself\u001b[0m\u001b[1;33m.\u001b[0m\u001b[0mget_indexer\u001b[0m\u001b[1;33m(\u001b[0m\u001b[1;33m[\u001b[0m\u001b[0mkey\u001b[0m\u001b[1;33m]\u001b[0m\u001b[1;33m,\u001b[0m \u001b[0mmethod\u001b[0m\u001b[1;33m=\u001b[0m\u001b[0mmethod\u001b[0m\u001b[1;33m,\u001b[0m \u001b[0mtolerance\u001b[0m\u001b[1;33m=\u001b[0m\u001b[0mtolerance\u001b[0m\u001b[1;33m)\u001b[0m\u001b[1;33m\u001b[0m\u001b[0m\n",
      "\u001b[1;32mpandas\\_libs\\index.pyx\u001b[0m in \u001b[0;36mpandas._libs.index.IndexEngine.get_loc\u001b[1;34m()\u001b[0m\n",
      "\u001b[1;32mpandas\\_libs\\index.pyx\u001b[0m in \u001b[0;36mpandas._libs.index.IndexEngine.get_loc\u001b[1;34m()\u001b[0m\n",
      "\u001b[1;32mpandas\\_libs\\hashtable_class_helper.pxi\u001b[0m in \u001b[0;36mpandas._libs.hashtable.PyObjectHashTable.get_item\u001b[1;34m()\u001b[0m\n",
      "\u001b[1;32mpandas\\_libs\\hashtable_class_helper.pxi\u001b[0m in \u001b[0;36mpandas._libs.hashtable.PyObjectHashTable.get_item\u001b[1;34m()\u001b[0m\n",
      "\u001b[1;31mKeyError\u001b[0m: 'hashtags'"
     ]
    }
   ],
   "source": [
    "viz_wordcloud(df_posts, 'hashtags')\n",
    "viz_wordcloud(df_comments, 'hashtags')"
   ]
  },
  {
   "cell_type": "code",
   "execution_count": null,
   "metadata": {},
   "outputs": [],
   "source": [
    "viz_wordcloud(df_posts, 'noun_phrases')\n",
    "viz_wordcloud(df_comments, 'noun_phrases')"
   ]
  },
  {
   "cell_type": "code",
   "execution_count": 88,
   "metadata": {},
   "outputs": [
    {
     "name": "stdout",
     "output_type": "stream",
     "text": [
      "                                                               message  \\\n",
      "date                                                                     \n",
      "2018-06-12 11:25:54  Recorre la cueva del viento, el tubo volcánico...   \n",
      "2018-06-12 11:17:37  Piérdete en los montes de Anaga  y disfruta de...   \n",
      "2018-06-12 11:06:06  Disfruta de las playas paradisíacas de Los Cri...   \n",
      "2018-06-12 10:59:00  Observa el vasto campo de lava que se extiende...   \n",
      "2018-06-12 09:54:46  Lánzate al mar y navega por sus costas para ob...   \n",
      "2018-06-12 09:17:51  Garachico la joya de Tenerife \\n#Tenerife #Ven...   \n",
      "2018-06-11 16:20:14  Visita el pueblo de Candelaria, con la basílic...   \n",
      "2018-06-11 12:21:08  Pasea por historia viva en una de las ciudades...   \n",
      "2018-06-11 12:14:11  Santa Cruz ocio y diversión\\n#SC #Tenerife #Ve...   \n",
      "2018-06-11 11:58:35  Ven al Puerto de la Cruz, ciudad costera de Te...   \n",
      "2018-06-11 11:31:48  ¿Quieres descubrir qué hay más allá de las nub...   \n",
      "\n",
      "                                 created_time  likes  shares  \\\n",
      "date                                                           \n",
      "2018-06-12 11:25:54  2018-06-12T11:25:54+0000      8       1   \n",
      "2018-06-12 11:17:37  2018-06-12T11:17:37+0000      6       0   \n",
      "2018-06-12 11:06:06  2018-06-12T11:06:06+0000      8       0   \n",
      "2018-06-12 10:59:00  2018-06-12T10:59:00+0000      8       0   \n",
      "2018-06-12 09:54:46  2018-06-12T09:54:46+0000      7       0   \n",
      "2018-06-12 09:17:51  2018-06-12T09:17:51+0000      7       0   \n",
      "2018-06-11 16:20:14  2018-06-11T16:20:14+0000      7       0   \n",
      "2018-06-11 12:21:08  2018-06-11T12:21:08+0000      6       0   \n",
      "2018-06-11 12:14:11  2018-06-11T12:14:11+0000      6       1   \n",
      "2018-06-11 11:58:35  2018-06-11T11:58:35+0000      6       0   \n",
      "2018-06-11 11:31:48  2018-06-11T11:31:48+0000      5       1   \n",
      "\n",
      "                                             post_id  \n",
      "date                                                  \n",
      "2018-06-12 11:25:54  215473732566847_215942402519980  \n",
      "2018-06-12 11:17:37  215473732566847_215939769186910  \n",
      "2018-06-12 11:06:06  215473732566847_215935885853965  \n",
      "2018-06-12 10:59:00  215473732566847_215933575854196  \n",
      "2018-06-12 09:54:46  215473732566847_215906422523578  \n",
      "2018-06-12 09:17:51  215473732566847_215895005858053  \n",
      "2018-06-11 16:20:14  215473732566847_215611149219772  \n",
      "2018-06-11 12:21:08  215473732566847_215519395895614  \n",
      "2018-06-11 12:14:11  215473732566847_215516722562548  \n",
      "2018-06-11 11:58:35  215473732566847_215511445896409  \n",
      "2018-06-11 11:31:48  215473732566847_215502852563935  \n"
     ]
    },
    {
     "data": {
      "image/png": "[encoded data removed]",
      "text/plain": [
       "<Figure size 792x576 with 1 Axes>"
      ]
     },
     "metadata": {},
     "output_type": "display_data"
    },
    {
     "name": "stdout",
     "output_type": "stream",
     "text": [
      "<ggplot: (22750347)>\n"
     ]
    },
    {
     "data": {
      "image/png": "[encoded data removed]",
      "text/plain": [
       "<Figure size 792x576 with 1 Axes>"
      ]
     },
     "metadata": {},
     "output_type": "display_data"
    },
    {
     "name": "stdout",
     "output_type": "stream",
     "text": [
      "<ggplot: (5732363)>\n"
     ]
    }
   ],
   "source": [
    "df_comments['date'] = df_comments['created_time'].apply(pandas.to_datetime)\n",
    "df_comments_ts = df_comments.set_index(['date'])\n",
    "df_comments_ts = df_comments_ts['2015-01-01':]\n",
    "\n",
    "df_posts['date'] = df_posts['created_time'].apply(pandas.to_datetime)\n",
    "df_posts_ts = df_posts.set_index(['date'])\n",
    "df_posts_ts = df_posts_ts[:'2015-01-01']\n",
    "print(df_posts_ts)\n",
    "\n",
    "#Creamos un data frame que contiene la cantidad promedio de likes y shares por semana\n",
    "dx = df_posts_ts.resample('W').mean()\n",
    "dx.index.name = 'date'\n",
    "dx = dx.reset_index()\n",
    "\n",
    "#Mostramos el progreso de likes\n",
    "p = ggplot(dx, aes(x = 'date', y = 'likes')) + geom_line()\n",
    "p = p + xlab(\"Date\") + ylab(\"Number of likes\") + ggtitle(\"Facebook Turismo Tenerife Page\")\n",
    "print(p)\n",
    "\n",
    "#Mostramos el progreso de shares\n",
    "p = ggplot(dx, aes(x = 'date', y = 'shares')) + geom_line()\n",
    "p = p + xlab(\"Date\") + ylab(\"Number of shares\") + ggtitle(\"Facebook Turismo Tenerife Page\")\n",
    "print(p)"
   ]
  },
  {
   "cell_type": "code",
   "execution_count": null,
   "metadata": {},
   "outputs": [],
   "source": []
  }
 ],
 "metadata": {
  "kernelspec": {
   "display_name": "Python 3",
   "language": "python",
   "name": "python3"
  },
  "language_info": {
   "codemirror_mode": {
    "name": "ipython",
    "version": 3
   },
   "file_extension": ".py",
   "mimetype": "text/x-python",
   "name": "python",
   "nbconvert_exporter": "python",
   "pygments_lexer": "ipython3",
   "version": "3.6.4"
  }
 },
 "nbformat": 4,
 "nbformat_minor": 2
}
